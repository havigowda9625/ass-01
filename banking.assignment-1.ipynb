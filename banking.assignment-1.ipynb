{
 "cells": [
  {
   "cell_type": "code",
   "execution_count": 3,
   "id": "c77b088f",
   "metadata": {},
   "outputs": [],
   "source": [
    "### Question 1: Array Creation and Manipulation"
   ]
  },
  {
   "cell_type": "code",
   "execution_count": 4,
   "id": "f6b320ab",
   "metadata": {},
   "outputs": [],
   "source": [
    "import numpy as np\n",
    "import pandas as pd"
   ]
  },
  {
   "cell_type": "code",
   "execution_count": 5,
   "id": "c35452b9",
   "metadata": {},
   "outputs": [
    {
     "name": "stdout",
     "output_type": "stream",
     "text": [
      "[[1. 0. 0. 0.]\n",
      " [0. 1. 0. 0.]\n",
      " [0. 0. 1. 0.]\n",
      " [0. 0. 0. 1.]]\n"
     ]
    }
   ],
   "source": [
    "#**Q1.1:** Create a 4x4 identity matrix using `np.eye()`\n",
    "N=np.eye(4)\n",
    "print(N)"
   ]
  },
  {
   "cell_type": "code",
   "execution_count": 6,
   "id": "39c79523",
   "metadata": {},
   "outputs": [
    {
     "name": "stdout",
     "output_type": "stream",
     "text": [
      "[0. 0. 0. 0. 0. 0. 0. 0.]\n"
     ]
    }
   ],
   "source": [
    "#**Q1.2:** Create an array of 8 zeros using `np.zeros()`\n",
    "N=np.zeros(8)\n",
    "print(N)"
   ]
  },
  {
   "cell_type": "code",
   "execution_count": 7,
   "id": "36e33ca3",
   "metadata": {},
   "outputs": [
    {
     "name": "stdout",
     "output_type": "stream",
     "text": [
      "[1. 1. 1. 1. 1. 1.]\n"
     ]
    }
   ],
   "source": [
    "#**Q1.3:** Create an array of 6 ones using `np.ones()`\n",
    "N=np.ones(6)\n",
    "print(N)"
   ]
  },
  {
   "cell_type": "code",
   "execution_count": 8,
   "id": "2f757615",
   "metadata": {},
   "outputs": [
    {
     "name": "stdout",
     "output_type": "stream",
     "text": [
      "[ 0  1  2  3  4  5  6  7  8  9 10 11 12 13 14 15]\n"
     ]
    }
   ],
   "source": [
    "#**Q1.4:** Create an array with values from 0 to 15 using `np.arange()`\n",
    "N=np.arange(16)\n",
    "print(N)\n"
   ]
  },
  {
   "cell_type": "code",
   "execution_count": 9,
   "id": "889d9cbd",
   "metadata": {},
   "outputs": [
    {
     "name": "stdout",
     "output_type": "stream",
     "text": [
      "[  0.          14.28571429  28.57142857  42.85714286  57.14285714\n",
      "  71.42857143  85.71428571 100.        ]\n"
     ]
    }
   ],
   "source": [
    "#**Q1.5:** Create an array with 8 evenly spaced values from 0 to 100 using `np.linspace()`\n",
    "N=np.linspace(0,100,8)\n",
    "print(N)"
   ]
  },
  {
   "cell_type": "code",
   "execution_count": 10,
   "id": "ef4ca120",
   "metadata": {},
   "outputs": [],
   "source": [
    "### Question 2: Array Attributes and Information"
   ]
  },
  {
   "cell_type": "code",
   "execution_count": 11,
   "id": "69ad4c21",
   "metadata": {},
   "outputs": [
    {
     "name": "stdout",
     "output_type": "stream",
     "text": [
      "[[   11 25000   300  1200    10]\n",
      " [   12 32000   450  1560    15]\n",
      " [   13 28000   380  1100    18]\n",
      " [   14 42000   500  1600    20]\n",
      " [   15 35000   420  1400    12]\n",
      " [   16 27000   360  1300    19]\n",
      " [   17 49000   480  1700    18]\n",
      " [   18 30000   410  1250    14]\n",
      " [   19 45000   550  1800    15]\n",
      " [   20 33000   410  1450    11]]\n"
     ]
    }
   ],
   "source": [
    "banking_industry = np.array([\n",
    "    # Customer_ID, Account_Balance, Credit_Score, Transaction_Count, Years_Active\n",
    "    [11, 25000, 300, 1200, 10],\n",
    "    [12, 32000, 450, 1560, 15],\n",
    "    [13, 28000, 380, 1100, 18],\n",
    "    [14, 42000, 500, 1600, 20],\n",
    "    [15, 35000, 420, 1400, 12],\n",
    "    [16, 27000, 360, 1300, 19],\n",
    "    [17, 49000, 480, 1700, 18],\n",
    "    [18, 30000, 410, 1250, 14],\n",
    "    [19, 45000, 550, 1800, 15],\n",
    "    [20, 33000, 410, 1450, 11]\n",
    "])\n",
    "\n",
    "print(banking_industry)"
   ]
  },
  {
   "cell_type": "code",
   "execution_count": 12,
   "id": "a2d154f6",
   "metadata": {},
   "outputs": [
    {
     "name": "stdout",
     "output_type": "stream",
     "text": [
      "(10, 5)\n"
     ]
    }
   ],
   "source": [
    "#**Q2.1:** What is the shape of the `banking_data` array?\n",
    "print(banking_industry.shape)"
   ]
  },
  {
   "cell_type": "code",
   "execution_count": 13,
   "id": "b9a81fe8",
   "metadata": {},
   "outputs": [
    {
     "name": "stdout",
     "output_type": "stream",
     "text": [
      "int32\n"
     ]
    }
   ],
   "source": [
    "#**Q2.2:** What is the data type of the `banking_data` array?\n",
    "print(banking_industry.dtype)"
   ]
  },
  {
   "cell_type": "code",
   "execution_count": 14,
   "id": "e5e5ec8b",
   "metadata": {},
   "outputs": [
    {
     "name": "stdout",
     "output_type": "stream",
     "text": [
      "50\n"
     ]
    }
   ],
   "source": [
    "#**Q2.3:** What is the size (total number of elements) of the `banking_data` array?\n",
    "print(banking_industry.size)"
   ]
  },
  {
   "cell_type": "code",
   "execution_count": 15,
   "id": "bab7b464",
   "metadata": {},
   "outputs": [
    {
     "name": "stdout",
     "output_type": "stream",
     "text": [
      "2\n"
     ]
    }
   ],
   "source": [
    "#**Q2.4:** What is the number of dimensions of the `banking_data` array?\n",
    "print(banking_industry.ndim)\n"
   ]
  },
  {
   "cell_type": "code",
   "execution_count": 16,
   "id": "47ec72ff",
   "metadata": {},
   "outputs": [
    {
     "name": "stdout",
     "output_type": "stream",
     "text": [
      "200\n"
     ]
    }
   ],
   "source": [
    "#**Q2.5:** What is the memory size of the `banking_data` array in bytes?\n",
    "print(banking_industry.nbytes)"
   ]
  },
  {
   "cell_type": "code",
   "execution_count": 17,
   "id": "13f697ac",
   "metadata": {},
   "outputs": [],
   "source": [
    "### Question 3: Indexing and Slicing"
   ]
  },
  {
   "cell_type": "code",
   "execution_count": 18,
   "id": "b0a4a9c6",
   "metadata": {},
   "outputs": [
    {
     "name": "stdout",
     "output_type": "stream",
     "text": [
      "[   11 25000   300  1200    10]\n"
     ]
    }
   ],
   "source": [
    "#**Q3.1:** Extract the first row of `banking_data`\n",
    "N=banking_industry[0]\n",
    "print(N)"
   ]
  },
  {
   "cell_type": "code",
   "execution_count": 19,
   "id": "2f5df9ee",
   "metadata": {},
   "outputs": [
    {
     "name": "stdout",
     "output_type": "stream",
     "text": [
      "[   20 33000   410  1450    11]\n"
     ]
    }
   ],
   "source": [
    "#**Q3.2:** Extract the last row of `banking_data`\n",
    "N=banking_industry[9]\n",
    "print(N)"
   ]
  },
  {
   "cell_type": "code",
   "execution_count": 20,
   "id": "64659d89",
   "metadata": {},
   "outputs": [
    {
     "name": "stdout",
     "output_type": "stream",
     "text": [
      "[25000 32000 28000 42000 35000 27000 49000 30000 45000 33000]\n"
     ]
    }
   ],
   "source": [
    "#**Q3.3:** Extract the Account_Balance column (column index 1)\n",
    "N=banking_industry[:,1]\n",
    "print(N)\n"
   ]
  },
  {
   "cell_type": "code",
   "execution_count": 21,
   "id": "9cb03bdc",
   "metadata": {},
   "outputs": [
    {
     "name": "stdout",
     "output_type": "stream",
     "text": [
      "[[   11 25000   300]\n",
      " [   12 32000   450]\n",
      " [   13 28000   380]\n",
      " [   14 42000   500]]\n"
     ]
    }
   ],
   "source": [
    "#**Q3.4:** Extract the first 4 rows and first 3 columns\n",
    "N=banking_industry[:4,:3]\n",
    "print(N)"
   ]
  },
  {
   "cell_type": "code",
   "execution_count": 22,
   "id": "33adda19",
   "metadata": {},
   "outputs": [
    {
     "name": "stdout",
     "output_type": "stream",
     "text": [
      "[[   14 42000   500  1600    20]\n",
      " [   15 35000   420  1400    12]\n",
      " [   16 27000   360  1300    19]\n",
      " [   17 49000   480  1700    18]]\n"
     ]
    }
   ],
   "source": [
    "#**Q3.5:** Extract rows 3 to 7 (inclusive)\n",
    "N=banking_industry[3:7]\n",
    "print(N)"
   ]
  },
  {
   "cell_type": "code",
   "execution_count": 23,
   "id": "4ce5c2ce",
   "metadata": {},
   "outputs": [],
   "source": [
    "### Question 4: Mathematical Operations"
   ]
  },
  {
   "cell_type": "code",
   "execution_count": 24,
   "id": "9b4aca49",
   "metadata": {},
   "outputs": [
    {
     "name": "stdout",
     "output_type": "stream",
     "text": [
      "346000\n"
     ]
    }
   ],
   "source": [
    "#**Q4.1:** Calculate the sum of all account balances\n",
    "N=np.sum(banking_industry[:,1])\n",
    "print(N)"
   ]
  },
  {
   "cell_type": "code",
   "execution_count": 25,
   "id": "488deed3",
   "metadata": {},
   "outputs": [
    {
     "name": "stdout",
     "output_type": "stream",
     "text": [
      "34600.0\n"
     ]
    }
   ],
   "source": [
    "#**Q4.2:** Calculate the mean account balance\n",
    "N=np.mean(banking_industry[:,1])\n",
    "print(N)"
   ]
  },
  {
   "cell_type": "code",
   "execution_count": 26,
   "id": "f2beb9ce",
   "metadata": {},
   "outputs": [
    {
     "name": "stdout",
     "output_type": "stream",
     "text": [
      "7709.734106958554\n"
     ]
    }
   ],
   "source": [
    "#**Q4.3:** Calculate the standard deviation of account balances\n",
    "N=np.std(banking_industry[:,1])\n",
    "print(N)"
   ]
  },
  {
   "cell_type": "code",
   "execution_count": 27,
   "id": "e1c07301",
   "metadata": {},
   "outputs": [
    {
     "name": "stdout",
     "output_type": "stream",
     "text": [
      "59440000.0\n"
     ]
    }
   ],
   "source": [
    "#**Q4.4:** Calculate the variance of account balances\n",
    "N=np.var(banking_industry[:,1])\n",
    "print(N)"
   ]
  },
  {
   "cell_type": "code",
   "execution_count": 28,
   "id": "2747f841",
   "metadata": {},
   "outputs": [
    {
     "name": "stdout",
     "output_type": "stream",
     "text": [
      "32500.0\n"
     ]
    }
   ],
   "source": [
    "#**Q4.5:** Calculate the median account balance\n",
    "N=np.median(banking_industry[:,1])\n",
    "print(N)"
   ]
  },
  {
   "cell_type": "code",
   "execution_count": 29,
   "id": "12461d39",
   "metadata": {},
   "outputs": [],
   "source": [
    "### Question 5: Statistical Functions\n"
   ]
  },
  {
   "cell_type": "code",
   "execution_count": 30,
   "id": "d4462527",
   "metadata": {},
   "outputs": [
    {
     "data": {
      "text/plain": [
       "(25000, 49000)"
      ]
     },
     "execution_count": 30,
     "metadata": {},
     "output_type": "execute_result"
    }
   ],
   "source": [
    "#**Q5.1:** Find the minimum and maximum account balances\n",
    "min_bal=np.min(banking_industry[:,1])\n",
    "max_bal=np.max(banking_industry[:,1])\n",
    "min_bal,max_bal"
   ]
  },
  {
   "cell_type": "code",
   "execution_count": 31,
   "id": "19158a8d",
   "metadata": {},
   "outputs": [
    {
     "data": {
      "text/plain": [
       "(300, 550)"
      ]
     },
     "execution_count": 31,
     "metadata": {},
     "output_type": "execute_result"
    }
   ],
   "source": [
    "#**Q5.2:** Find the minimum and maximum credit scores\n",
    "min_cr=np.min(banking_industry[:,2])\n",
    "max_cr=np.max(banking_industry[:,2])\n",
    "min_cr,max_cr"
   ]
  },
  {
   "cell_type": "code",
   "execution_count": 32,
   "id": "2cad7c40",
   "metadata": {},
   "outputs": [
    {
     "data": {
      "text/plain": [
       "array([28500., 32500., 40250.])"
      ]
     },
     "execution_count": 32,
     "metadata": {},
     "output_type": "execute_result"
    }
   ],
   "source": [
    "#**Q5.3:** Calculate the percentile values for account balances (25th, 50th, 75th)\n",
    "per=np.percentile(banking_industry[:,1],[25,50,75])\n",
    "per"
   ]
  },
  {
   "cell_type": "code",
   "execution_count": 33,
   "id": "a86cb217",
   "metadata": {},
   "outputs": [
    {
     "data": {
      "text/plain": [
       "0.8801652070665131"
      ]
     },
     "execution_count": 33,
     "metadata": {},
     "output_type": "execute_result"
    }
   ],
   "source": [
    "#**Q5.4:** Calculate the correlation between account balance and credit score\n",
    "cor=np.corrcoef(banking_industry[:,1],banking_industry[:,2])[0,1]\n",
    "cor"
   ]
  },
  {
   "cell_type": "code",
   "execution_count": 34,
   "id": "4bed4f25",
   "metadata": {},
   "outputs": [
    {
     "data": {
      "text/plain": [
       "518222.2222222222"
      ]
     },
     "execution_count": 34,
     "metadata": {},
     "output_type": "execute_result"
    }
   ],
   "source": [
    "#**Q5.5:** Calculate the covariance between account balance and credit score\n",
    "cova=np.cov(banking_industry[:,1],banking_industry[:,2])[0,1]\n",
    "cova"
   ]
  },
  {
   "cell_type": "code",
   "execution_count": 35,
   "id": "3ddb0c40",
   "metadata": {},
   "outputs": [],
   "source": [
    "### Question 6: Array Reshaping and Manipulation"
   ]
  },
  {
   "cell_type": "code",
   "execution_count": 36,
   "id": "731f26e4",
   "metadata": {},
   "outputs": [
    {
     "data": {
      "text/plain": [
       "array([[   11, 25000,   300,  1200,    10,    12, 32000,   450,  1560,\n",
       "           15],\n",
       "       [   13, 28000,   380,  1100,    18,    14, 42000,   500,  1600,\n",
       "           20],\n",
       "       [   15, 35000,   420,  1400,    12,    16, 27000,   360,  1300,\n",
       "           19],\n",
       "       [   17, 49000,   480,  1700,    18,    18, 30000,   410,  1250,\n",
       "           14],\n",
       "       [   19, 45000,   550,  1800,    15,    20, 33000,   410,  1450,\n",
       "           11]])"
      ]
     },
     "execution_count": 36,
     "metadata": {},
     "output_type": "execute_result"
    }
   ],
   "source": [
    "#**Q6.1:** Reshape the `banking_data` to 5 rows × 10 columns\n",
    "resh=banking_industry.reshape(5,10)\n",
    "resh\n"
   ]
  },
  {
   "cell_type": "code",
   "execution_count": 37,
   "id": "8dd0f526",
   "metadata": {},
   "outputs": [
    {
     "data": {
      "text/plain": [
       "array([   11, 25000,   300,  1200,    10,    12, 32000,   450,  1560,\n",
       "          15,    13, 28000,   380,  1100,    18,    14, 42000,   500,\n",
       "        1600,    20,    15, 35000,   420,  1400,    12,    16, 27000,\n",
       "         360,  1300,    19,    17, 49000,   480,  1700,    18,    18,\n",
       "       30000,   410,  1250,    14,    19, 45000,   550,  1800,    15,\n",
       "          20, 33000,   410,  1450,    11])"
      ]
     },
     "execution_count": 37,
     "metadata": {},
     "output_type": "execute_result"
    }
   ],
   "source": [
    "#**Q6.2:** Flatten the `banking_data` to a 1D array\n",
    "flat=banking_industry.flatten()\n",
    "flat"
   ]
  },
  {
   "cell_type": "code",
   "execution_count": 38,
   "id": "3198aea6",
   "metadata": {},
   "outputs": [
    {
     "data": {
      "text/plain": [
       "array([[   11,    12,    13,    14,    15,    16,    17,    18,    19,\n",
       "           20],\n",
       "       [25000, 32000, 28000, 42000, 35000, 27000, 49000, 30000, 45000,\n",
       "        33000],\n",
       "       [  300,   450,   380,   500,   420,   360,   480,   410,   550,\n",
       "          410],\n",
       "       [ 1200,  1560,  1100,  1600,  1400,  1300,  1700,  1250,  1800,\n",
       "         1450],\n",
       "       [   10,    15,    18,    20,    12,    19,    18,    14,    15,\n",
       "           11]])"
      ]
     },
     "execution_count": 38,
     "metadata": {},
     "output_type": "execute_result"
    }
   ],
   "source": [
    "#**Q6.3:** Transpose the `banking_data`\n",
    "trans=banking_industry.transpose()\n",
    "trans"
   ]
  },
  {
   "cell_type": "code",
   "execution_count": 39,
   "id": "4a94a529",
   "metadata": {},
   "outputs": [
    {
     "data": {
      "text/plain": [
       "array([[   16, 27000,   360,  1300,    19],\n",
       "       [   17, 49000,   480,  1700,    18],\n",
       "       [   18, 30000,   410,  1250,    14],\n",
       "       [   19, 45000,   550,  1800,    15],\n",
       "       [   20, 33000,   410,  1450,    11]])"
      ]
     },
     "execution_count": 39,
     "metadata": {},
     "output_type": "execute_result"
    }
   ],
   "source": [
    "#**Q6.4:** Split the `banking_data` into 2 equal parts vertically\n",
    "sp=np.vsplit(banking_industry,2)\n",
    "sp[0]\n",
    "sp[1]"
   ]
  },
  {
   "cell_type": "code",
   "execution_count": 40,
   "id": "f38ce69e",
   "metadata": {},
   "outputs": [],
   "source": [
    "#**Q6.5:** Split the `banking_data` into 2 equal parts horizontally\n"
   ]
  },
  {
   "cell_type": "code",
   "execution_count": 41,
   "id": "0c189826",
   "metadata": {},
   "outputs": [],
   "source": [
    "### Question 7: Logical Operations and Filtering\n"
   ]
  },
  {
   "cell_type": "code",
   "execution_count": 42,
   "id": "4e365369",
   "metadata": {},
   "outputs": [
    {
     "data": {
      "text/plain": [
       "(0, 5)"
      ]
     },
     "execution_count": 42,
     "metadata": {},
     "output_type": "execute_result"
    }
   ],
   "source": [
    "#**Q7.1:** Find customers with account balance greater than $100,000\n",
    "cus=banking_industry[banking_industry[:,1]>100000].shape\n",
    "cus"
   ]
  },
  {
   "cell_type": "code",
   "execution_count": 43,
   "id": "162283f9",
   "metadata": {},
   "outputs": [
    {
     "data": {
      "text/plain": [
       "(0, 5)"
      ]
     },
     "execution_count": 43,
     "metadata": {},
     "output_type": "execute_result"
    }
   ],
   "source": [
    "#**Q7.2:** Find customers with credit score greater than 800\n",
    "cus=banking_industry[banking_industry[:,2]>800].shape\n",
    "cus"
   ]
  },
  {
   "cell_type": "code",
   "execution_count": 44,
   "id": "ce7ab642",
   "metadata": {},
   "outputs": [],
   "source": [
    "#**Q7.3:** Find customers with transaction count greater than 50 AND credit score less than 750\n"
   ]
  },
  {
   "cell_type": "code",
   "execution_count": 45,
   "id": "abe09091",
   "metadata": {},
   "outputs": [
    {
     "data": {
      "text/plain": [
       "(<module 'numpy' from 'c:\\\\ProgramData\\\\anaconda3\\\\lib\\\\site-packages\\\\numpy\\\\__init__.py'>,\n",
       " 10)"
      ]
     },
     "execution_count": 45,
     "metadata": {},
     "output_type": "execute_result"
    }
   ],
   "source": [
    "#**Q7.4:** Count how many customers have account balance between $10,000 and $100,000\n",
    "cus1=np,sum((banking_industry[:,1]>=10000) & (banking_industry[:,1]<=100000))\n",
    "cus1"
   ]
  },
  {
   "cell_type": "code",
   "execution_count": 46,
   "id": "4acf74f9",
   "metadata": {},
   "outputs": [
    {
     "data": {
      "text/plain": [
       "9"
      ]
     },
     "execution_count": 46,
     "metadata": {},
     "output_type": "execute_result"
    }
   ],
   "source": [
    "#**Q7.5:** Find the index of the customer with the highest credit score\n",
    "hcs=np.argmax(banking_industry[:,2])+1\n",
    "hcs"
   ]
  },
  {
   "cell_type": "code",
   "execution_count": 47,
   "id": "28af32d2",
   "metadata": {},
   "outputs": [],
   "source": [
    "#### Question 8: Sorting and Searching"
   ]
  },
  {
   "cell_type": "code",
   "execution_count": 48,
   "id": "51a03e24",
   "metadata": {},
   "outputs": [
    {
     "data": {
      "text/plain": [
       "array([[   11, 25000,   300,  1200,    10],\n",
       "       [   16, 27000,   360,  1300,    19],\n",
       "       [   13, 28000,   380,  1100,    18],\n",
       "       [   18, 30000,   410,  1250,    14],\n",
       "       [   12, 32000,   450,  1560,    15],\n",
       "       [   20, 33000,   410,  1450,    11],\n",
       "       [   15, 35000,   420,  1400,    12],\n",
       "       [   14, 42000,   500,  1600,    20],\n",
       "       [   19, 45000,   550,  1800,    15],\n",
       "       [   17, 49000,   480,  1700,    18]])"
      ]
     },
     "execution_count": 48,
     "metadata": {},
     "output_type": "execute_result"
    }
   ],
   "source": [
    "#**Q8.1:** Sort the `banking_data` by account balance (ascending)\n",
    "s=banking_industry[banking_industry[:,1].argsort()]\n",
    "s"
   ]
  },
  {
   "cell_type": "code",
   "execution_count": 49,
   "id": "b8bfe4c8",
   "metadata": {},
   "outputs": [
    {
     "data": {
      "text/plain": [
       "array([[   19, 45000,   550,  1800,    15],\n",
       "       [   14, 42000,   500,  1600,    20],\n",
       "       [   17, 49000,   480,  1700,    18],\n",
       "       [   12, 32000,   450,  1560,    15],\n",
       "       [   15, 35000,   420,  1400,    12],\n",
       "       [   18, 30000,   410,  1250,    14],\n",
       "       [   20, 33000,   410,  1450,    11],\n",
       "       [   13, 28000,   380,  1100,    18],\n",
       "       [   16, 27000,   360,  1300,    19],\n",
       "       [   11, 25000,   300,  1200,    10]])"
      ]
     },
     "execution_count": 49,
     "metadata": {},
     "output_type": "execute_result"
    }
   ],
   "source": [
    "#**Q8.2:** Sort the `banking_data` by credit score (descending)\n",
    "sr=banking_industry[(-banking_industry[:,2]).argsort()]\n",
    "sr"
   ]
  },
  {
   "cell_type": "code",
   "execution_count": 50,
   "id": "a9a441e8",
   "metadata": {},
   "outputs": [
    {
     "data": {
      "text/plain": [
       "array([0, 5, 2, 7, 1, 9, 4, 3, 8, 6], dtype=int64)"
      ]
     },
     "execution_count": 50,
     "metadata": {},
     "output_type": "execute_result"
    }
   ],
   "source": [
    "#**Q8.3:** Find the indices that would sort the array by years active\n",
    "ins=np.argsort(banking_industry[:,1])\n",
    "ins"
   ]
  },
  {
   "cell_type": "code",
   "execution_count": 51,
   "id": "7672b096",
   "metadata": {},
   "outputs": [],
   "source": [
    "#**Q8.4:** Find the customer with the second highest account balance\n"
   ]
  },
  {
   "cell_type": "code",
   "execution_count": 52,
   "id": "bbeb3ba5",
   "metadata": {},
   "outputs": [],
   "source": [
    "#**Q8.5:** Find the customer with the lowest transaction count\n"
   ]
  },
  {
   "cell_type": "code",
   "execution_count": 53,
   "id": "4ae20969",
   "metadata": {},
   "outputs": [],
   "source": [
    "### Question 9: Mathematical Functions"
   ]
  },
  {
   "cell_type": "code",
   "execution_count": 54,
   "id": "7228e6a3",
   "metadata": {},
   "outputs": [
    {
     "data": {
      "text/plain": [
       "array([[   11, 25000,   300,  1200,    10],\n",
       "       [   12, 32000,   450,  1560,    15],\n",
       "       [   13, 28000,   380,  1100,    18],\n",
       "       [   14, 42000,   500,  1600,    20],\n",
       "       [   15, 35000,   420,  1400,    12],\n",
       "       [   16, 27000,   360,  1300,    19],\n",
       "       [   17, 49000,   480,  1700,    18],\n",
       "       [   18, 30000,   410,  1250,    14],\n",
       "       [   19, 45000,   550,  1800,    15],\n",
       "       [   20, 33000,   410,  1450,    11]])"
      ]
     },
     "execution_count": 54,
     "metadata": {},
     "output_type": "execute_result"
    }
   ],
   "source": [
    "#**Q9.1:** Calculate the absolute values of all elements\n",
    "ab=np.abs(banking_industry)\n",
    "ab"
   ]
  },
  {
   "cell_type": "code",
   "execution_count": 55,
   "id": "bf913509",
   "metadata": {},
   "outputs": [
    {
     "data": {
      "text/plain": [
       "array([158.11388301, 178.8854382 , 167.33200531, 204.93901532,\n",
       "       187.08286934, 164.31676725, 221.35943621, 173.20508076,\n",
       "       212.13203436, 181.65902125])"
      ]
     },
     "execution_count": 55,
     "metadata": {},
     "output_type": "execute_result"
    }
   ],
   "source": [
    "#**Q9.2:** Calculate the square root of all account balances\n",
    "sq=np.sqrt(banking_industry[:,1])\n",
    "sq"
   ]
  },
  {
   "cell_type": "code",
   "execution_count": 56,
   "id": "32552b3f",
   "metadata": {},
   "outputs": [
    {
     "data": {
      "text/plain": [
       "array([17.32050808, 21.21320344, 19.49358869, 22.36067977, 20.49390153,\n",
       "       18.97366596, 21.9089023 , 20.24845673, 23.4520788 , 20.24845673])"
      ]
     },
     "execution_count": 56,
     "metadata": {},
     "output_type": "execute_result"
    }
   ],
   "source": [
    "#**Q9.3:** Calculate the square of all credit scores\n",
    "sq=np.sqrt(banking_industry[:,2])\n",
    "sq"
   ]
  },
  {
   "cell_type": "code",
   "execution_count": 57,
   "id": "4749d63a",
   "metadata": {},
   "outputs": [
    {
     "name": "stderr",
     "output_type": "stream",
     "text": [
      "C:\\Users\\abhi\\AppData\\Local\\Temp\\ipykernel_25828\\2934033888.py:2: RuntimeWarning: overflow encountered in exp\n",
      "  ex=np.exp(banking_industry[:,3])\n"
     ]
    },
    {
     "data": {
      "text/plain": [
       "array([inf, inf, inf, inf, inf, inf, inf, inf, inf, inf])"
      ]
     },
     "execution_count": 57,
     "metadata": {},
     "output_type": "execute_result"
    }
   ],
   "source": [
    "#**Q9.4:** Calculate the exponential of all transaction counts\n",
    "ex=np.exp(banking_industry[:,3])\n",
    "ex"
   ]
  },
  {
   "cell_type": "code",
   "execution_count": 58,
   "id": "eb3df19e",
   "metadata": {},
   "outputs": [
    {
     "data": {
      "text/plain": [
       "array([10.1266311 , 10.37349118, 10.23995979, 10.6454249 , 10.46310334,\n",
       "       10.20359214, 10.79957558, 10.30895266, 10.71441777, 10.40426284])"
      ]
     },
     "execution_count": 58,
     "metadata": {},
     "output_type": "execute_result"
    }
   ],
   "source": [
    "#**Q9.5:** Calculate the natural logarithm of all account balances\n",
    "lg=np.log(banking_industry[:,1])\n",
    "lg"
   ]
  },
  {
   "cell_type": "code",
   "execution_count": 59,
   "id": "3dfe3a96",
   "metadata": {},
   "outputs": [],
   "source": [
    "### Question 10: Advanced Operations"
   ]
  },
  {
   "cell_type": "code",
   "execution_count": 60,
   "id": "1839e15f",
   "metadata": {},
   "outputs": [
    {
     "data": {
      "text/plain": [
       "array([ 25000,  57000,  85000, 127000, 162000, 189000, 238000, 268000,\n",
       "       313000, 346000])"
      ]
     },
     "execution_count": 60,
     "metadata": {},
     "output_type": "execute_result"
    }
   ],
   "source": [
    "#**Q10.1:** Calculate the cumulative sum of account balances\n",
    "cms=np.cumsum(banking_industry[:,1])\n",
    "cms"
   ]
  },
  {
   "cell_type": "code",
   "execution_count": 61,
   "id": "32e9c067",
   "metadata": {},
   "outputs": [
    {
     "data": {
      "text/plain": [
       "array([       1200,     1872000,  2059200000,   480083968,  2102657024,\n",
       "        1854930944,   876609536,   545259520, -2080374784, -1476395008])"
      ]
     },
     "execution_count": 61,
     "metadata": {},
     "output_type": "execute_result"
    }
   ],
   "source": [
    "#**Q10.2:** Calculate the cumulative product of transaction counts\n",
    "cm=np.cumprod(banking_industry[:,3])\n",
    "cm"
   ]
  },
  {
   "cell_type": "code",
   "execution_count": 62,
   "id": "5f5cb2dd",
   "metadata": {},
   "outputs": [
    {
     "data": {
      "text/plain": [
       "array([  7000,  -4000,  14000,  -7000,  -8000,  22000, -19000,  15000,\n",
       "       -12000])"
      ]
     },
     "execution_count": 62,
     "metadata": {},
     "output_type": "execute_result"
    }
   ],
   "source": [
    "#**Q10.3:** Calculate the difference between consecutive account balances\n",
    "cn=np.diff(banking_industry[:,1])\n",
    "cn"
   ]
  },
  {
   "cell_type": "code",
   "execution_count": 63,
   "id": "900ffbc5",
   "metadata": {},
   "outputs": [
    {
     "data": {
      "text/plain": [
       "array([  7000.,   1500.,   5000.,   3500.,  -7500.,   7000.,   1500.,\n",
       "        -2000.,   1500., -12000.])"
      ]
     },
     "execution_count": 63,
     "metadata": {},
     "output_type": "execute_result"
    }
   ],
   "source": [
    "#**Q10.4:** Calculate the gradient of account balances\n",
    "gt=np.gradient(banking_industry[:,1])\n",
    "gt"
   ]
  },
  {
   "cell_type": "code",
   "execution_count": 64,
   "id": "e710a94c",
   "metadata": {},
   "outputs": [],
   "source": [
    "#**Q10.5:** Calculate the histogram of account balances with 5 bins\n"
   ]
  },
  {
   "cell_type": "code",
   "execution_count": 65,
   "id": "894c39e5",
   "metadata": {},
   "outputs": [],
   "source": [
    "### Question 11: Random Numbers and Simulation"
   ]
  },
  {
   "cell_type": "code",
   "execution_count": 66,
   "id": "16511458",
   "metadata": {},
   "outputs": [
    {
     "data": {
      "text/plain": [
       "array([302, 769, 546, 573, 579, 690])"
      ]
     },
     "execution_count": 66,
     "metadata": {},
     "output_type": "execute_result"
    }
   ],
   "source": [
    "#**Q11.1:** Generate 6 random integers between 1 and 1000\n",
    "rd=np.random.randint(1,1001,6)\n",
    "rd"
   ]
  },
  {
   "cell_type": "code",
   "execution_count": 67,
   "id": "d3e0a10c",
   "metadata": {},
   "outputs": [
    {
     "data": {
      "text/plain": [
       "array([0.77972125, 0.37167333, 0.66819399, 0.20684179, 0.89170979,\n",
       "       0.6989081 ])"
      ]
     },
     "execution_count": 67,
     "metadata": {},
     "output_type": "execute_result"
    }
   ],
   "source": [
    "#**Q11.2:** Generate 6 random floats between 0 and 1\n",
    "rf=np.random.random(6)\n",
    "rf"
   ]
  },
  {
   "cell_type": "code",
   "execution_count": 68,
   "id": "c8c9138e",
   "metadata": {},
   "outputs": [
    {
     "data": {
      "text/plain": [
       "array([-1.42347741, -1.23072803,  0.35665744, -0.04624815, -0.82848302,\n",
       "        0.52203298])"
      ]
     },
     "execution_count": 68,
     "metadata": {},
     "output_type": "execute_result"
    }
   ],
   "source": [
    "#**Q11.3:** Generate 6 random numbers from normal distribution (mean=700, std=100)\n",
    "rn=np.random.normal(0,1,6)\n",
    "rn\n"
   ]
  },
  {
   "cell_type": "code",
   "execution_count": 69,
   "id": "12269abe",
   "metadata": {},
   "outputs": [
    {
     "data": {
      "text/plain": [
       "array([[   20, 33000,   410,  1450,    11],\n",
       "       [   11, 25000,   300,  1200,    10],\n",
       "       [   15, 35000,   420,  1400,    12],\n",
       "       [   17, 49000,   480,  1700,    18],\n",
       "       [   12, 32000,   450,  1560,    15],\n",
       "       [   14, 42000,   500,  1600,    20],\n",
       "       [   13, 28000,   380,  1100,    18],\n",
       "       [   16, 27000,   360,  1300,    19],\n",
       "       [   19, 45000,   550,  1800,    15],\n",
       "       [   18, 30000,   410,  1250,    14]])"
      ]
     },
     "execution_count": 69,
     "metadata": {},
     "output_type": "execute_result"
    }
   ],
   "source": [
    "#**Q11.4:** Shuffle the `banking_data` rows randomly\n",
    "sf=banking_industry.copy()\n",
    "np.random.shuffle(sf)\n",
    "sf"
   ]
  },
  {
   "cell_type": "code",
   "execution_count": 70,
   "id": "0a61bcf3",
   "metadata": {},
   "outputs": [
    {
     "data": {
      "text/plain": [
       "array([0.69646919, 0.28613933, 0.22685145, 0.55131477])"
      ]
     },
     "execution_count": 70,
     "metadata": {},
     "output_type": "execute_result"
    }
   ],
   "source": [
    "#**Q11.5:** Set random seed to 123 and generate 4 random numbers\n",
    "np.random.seed(123)\n",
    "srs=np.random.random(4)\n",
    "srs"
   ]
  },
  {
   "cell_type": "code",
   "execution_count": 71,
   "id": "8aa97448",
   "metadata": {},
   "outputs": [],
   "source": [
    "### Question 12: Linear Algebra Operations"
   ]
  },
  {
   "cell_type": "code",
   "execution_count": 72,
   "id": "8e8a6adf",
   "metadata": {},
   "outputs": [
    {
     "data": {
      "text/plain": [
       "152060000"
      ]
     },
     "execution_count": 72,
     "metadata": {},
     "output_type": "execute_result"
    }
   ],
   "source": [
    "#**Q12.1:** Calculate the dot product of account balance and credit score columns\n",
    "dp=np.dot((banking_industry[:,1]),(banking_industry[:,2]))\n",
    "dp\n"
   ]
  },
  {
   "cell_type": "code",
   "execution_count": 73,
   "id": "c6865cd7",
   "metadata": {},
   "outputs": [
    {
     "data": {
      "text/plain": [
       "array([1650000,   -1350,   52000])"
      ]
     },
     "execution_count": 73,
     "metadata": {},
     "output_type": "execute_result"
    }
   ],
   "source": [
    "#**Q12.2:** Calculate the cross product of first two rows\n",
    "cp=np.cross(banking_industry[0,:3],banking_industry[1,:3])\n",
    "cp"
   ]
  },
  {
   "cell_type": "code",
   "execution_count": 74,
   "id": "b8c5eb77",
   "metadata": {},
   "outputs": [
    {
     "data": {
      "text/plain": [
       "112098.1712607302"
      ]
     },
     "execution_count": 74,
     "metadata": {},
     "output_type": "execute_result"
    }
   ],
   "source": [
    "#**Q12.3:** Calculate the norm (magnitude) of the account balance column\n",
    "nor=np.linalg.norm(banking_industry[:,1])\n",
    "nor"
   ]
  },
  {
   "cell_type": "code",
   "execution_count": 75,
   "id": "5de25fe3",
   "metadata": {},
   "outputs": [
    {
     "data": {
      "text/plain": [
       "32.000000000000014"
      ]
     },
     "execution_count": 75,
     "metadata": {},
     "output_type": "execute_result"
    }
   ],
   "source": [
    "#**Q12.4:** Create a 3x3 matrix and calculate its determinant\n",
    "mat=np.array([[1,4,2],[2,5,6],[4,3,6]])\n",
    "cd=np.linalg.det(mat)\n",
    "mat\n",
    "cd"
   ]
  },
  {
   "cell_type": "code",
   "execution_count": 76,
   "id": "1b98dfba",
   "metadata": {},
   "outputs": [
    {
     "data": {
      "text/plain": [
       "array([[ 0.375  , -0.5625 ,  0.4375 ],\n",
       "       [ 0.375  , -0.0625 , -0.0625 ],\n",
       "       [-0.4375 ,  0.40625, -0.09375]])"
      ]
     },
     "execution_count": 76,
     "metadata": {},
     "output_type": "execute_result"
    }
   ],
   "source": [
    "#**Q12.5:** Calculate the inverse of the 3x3 matrix\n",
    "im=np.linalg.inv(mat)\n",
    "im"
   ]
  },
  {
   "cell_type": "code",
   "execution_count": 77,
   "id": "5466f6bb",
   "metadata": {},
   "outputs": [],
   "source": [
    "### Question 13: String Operations"
   ]
  },
  {
   "cell_type": "code",
   "execution_count": 78,
   "id": "d1972789",
   "metadata": {},
   "outputs": [
    {
     "data": {
      "text/plain": [
       "array(['11', '12', '13', '14', '15', '16', '17', '18', '19', '20'],\n",
       "      dtype='<U11')"
      ]
     },
     "execution_count": 78,
     "metadata": {},
     "output_type": "execute_result"
    }
   ],
   "source": [
    "#**Q13.1:** Convert all customer IDs to strings\n",
    "cu=banking_industry[:,0].astype(str)\n",
    "cu"
   ]
  },
  {
   "cell_type": "code",
   "execution_count": 79,
   "id": "3d359a36",
   "metadata": {},
   "outputs": [
    {
     "data": {
      "text/plain": [
       "array([False, False, False, False, False, False, False, False, False,\n",
       "       False])"
      ]
     },
     "execution_count": 79,
     "metadata": {},
     "output_type": "execute_result"
    }
   ],
   "source": [
    "#**Q13.2:** Check if any customer ID contains '100'\n",
    "id=np.char.find(cu,'100')>=0\n",
    "id"
   ]
  },
  {
   "cell_type": "code",
   "execution_count": 80,
   "id": "824917ea",
   "metadata": {},
   "outputs": [
    {
     "data": {
      "text/plain": [
       "array(['11', '12', '13', '14', '15', '16', '17', '18', '19', '20'],\n",
       "      dtype='<U11')"
      ]
     },
     "execution_count": 80,
     "metadata": {},
     "output_type": "execute_result"
    }
   ],
   "source": [
    "#**Q13.3:** Convert all customer IDs to uppercase (if they were strings)\n",
    "up=np.char.upper(cu)\n",
    "up"
   ]
  },
  {
   "cell_type": "code",
   "execution_count": 81,
   "id": "bcbfe364",
   "metadata": {},
   "outputs": [
    {
     "data": {
      "text/plain": [
       "array([2, 2, 2, 2, 2, 2, 2, 2, 2, 2])"
      ]
     },
     "execution_count": 81,
     "metadata": {},
     "output_type": "execute_result"
    }
   ],
   "source": [
    "#**Q13.4:** Count the length of each customer ID string\n",
    "ln=np.char.str_len(cu)\n",
    "ln"
   ]
  },
  {
   "cell_type": "code",
   "execution_count": 82,
   "id": "f3256d20",
   "metadata": {},
   "outputs": [
    {
     "data": {
      "text/plain": [
       "array(['11', '12', '13', '14', '15', '16', '17', '18', '19', '20'],\n",
       "      dtype='<U2')"
      ]
     },
     "execution_count": 82,
     "metadata": {},
     "output_type": "execute_result"
    }
   ],
   "source": [
    "#**Q13.5:** Replace '100' with 'CUST' in customer IDs\n",
    "rp=np.char.replace(cu,'100','CUST')\n",
    "rp"
   ]
  },
  {
   "cell_type": "code",
   "execution_count": 83,
   "id": "59601903",
   "metadata": {},
   "outputs": [],
   "source": [
    "#### Question 14: Date and Time Operations"
   ]
  },
  {
   "cell_type": "code",
   "execution_count": 84,
   "id": "01124793",
   "metadata": {},
   "outputs": [
    {
     "data": {
      "text/plain": [
       "array([120, 180, 216, 240, 144, 228, 216, 168, 180, 132])"
      ]
     },
     "execution_count": 84,
     "metadata": {},
     "output_type": "execute_result"
    }
   ],
   "source": [
    "#**Q14.1:** Convert years active to months\n",
    "ym=banking_industry[:,4]*12\n",
    "ym\n"
   ]
  },
  {
   "cell_type": "code",
   "execution_count": 85,
   "id": "804d7b86",
   "metadata": {},
   "outputs": [
    {
     "data": {
      "text/plain": [
       "15.2"
      ]
     },
     "execution_count": 85,
     "metadata": {},
     "output_type": "execute_result"
    }
   ],
   "source": [
    "#**Q14.2:** Calculate the average years active\n",
    "ay=np.average(banking_industry[:,4])\n",
    "ay"
   ]
  },
  {
   "cell_type": "code",
   "execution_count": 86,
   "id": "7117d76a",
   "metadata": {},
   "outputs": [
    {
     "data": {
      "text/plain": [
       "array([[   11, 25000,   300,  1200,    10],\n",
       "       [   12, 32000,   450,  1560,    15],\n",
       "       [   13, 28000,   380,  1100,    18],\n",
       "       [   14, 42000,   500,  1600,    20],\n",
       "       [   15, 35000,   420,  1400,    12],\n",
       "       [   16, 27000,   360,  1300,    19],\n",
       "       [   17, 49000,   480,  1700,    18],\n",
       "       [   18, 30000,   410,  1250,    14],\n",
       "       [   19, 45000,   550,  1800,    15],\n",
       "       [   20, 33000,   410,  1450,    11]])"
      ]
     },
     "execution_count": 86,
     "metadata": {},
     "output_type": "execute_result"
    }
   ],
   "source": [
    "#**Q14.3:** Find customers who have been active for more than 5 years\n",
    "ac=banking_industry[banking_industry[:,4]>5]\n",
    "ac"
   ]
  },
  {
   "cell_type": "code",
   "execution_count": 87,
   "id": "27c0f2b2",
   "metadata": {},
   "outputs": [
    {
     "data": {
      "text/plain": [
       "152"
      ]
     },
     "execution_count": 87,
     "metadata": {},
     "output_type": "execute_result"
    }
   ],
   "source": [
    "#**Q14.4:** Calculate the total time all customers have been active (in years)\n",
    "atc=np.sum(banking_industry[:,4])\n",
    "atc"
   ]
  },
  {
   "cell_type": "code",
   "execution_count": 88,
   "id": "63c2b692",
   "metadata": {},
   "outputs": [
    {
     "data": {
      "text/plain": [
       "array([   11, 25000,   300,  1200,    10])"
      ]
     },
     "execution_count": 88,
     "metadata": {},
     "output_type": "execute_result"
    }
   ],
   "source": [
    "#**Q14.5:** Find the customer with the shortest time active\n",
    "sa=np.argmin(banking_industry[:,4])\n",
    "sta=banking_industry[sa]\n",
    "sta"
   ]
  },
  {
   "cell_type": "code",
   "execution_count": 89,
   "id": "5ad3c2f9",
   "metadata": {},
   "outputs": [],
   "source": [
    "### Question 15: Advanced Array Operations"
   ]
  },
  {
   "cell_type": "code",
   "execution_count": 90,
   "id": "b2880570",
   "metadata": {},
   "outputs": [],
   "source": [
    "#**Q15.1:** Apply a function to calculate 5% interest on all account balances\n"
   ]
  },
  {
   "cell_type": "code",
   "execution_count": 91,
   "id": "c4d09cc6",
   "metadata": {},
   "outputs": [
    {
     "data": {
      "text/plain": [
       "(array([0, 1, 2, 3, 4, 5, 6, 7, 8, 9], dtype=int64),)"
      ]
     },
     "execution_count": 91,
     "metadata": {},
     "output_type": "execute_result"
    }
   ],
   "source": [
    "#**Q15.2:** Use `np.where` to categorize customers by balance ranges\n",
    "cc=np.where(banking_industry[:,1])\n",
    "cc"
   ]
  },
  {
   "cell_type": "code",
   "execution_count": 92,
   "id": "69e3e3e6",
   "metadata": {},
   "outputs": [
    {
     "data": {
      "text/plain": [
       "(<function numpy.select(condlist, choicelist, default=0)>,\n",
       " array([300, 450, 380, 500, 420, 360, 480, 410, 550, 410]))"
      ]
     },
     "execution_count": 92,
     "metadata": {},
     "output_type": "execute_result"
    }
   ],
   "source": [
    "#**Q15.3:** Use `np.select` to categorize customers by credit score ranges\n",
    "csr=(np.select,banking_industry[:,2])\n",
    "csr"
   ]
  },
  {
   "cell_type": "code",
   "execution_count": 93,
   "id": "12091aac",
   "metadata": {},
   "outputs": [],
   "source": [
    "#**Q15.4:** Use `np.piecewise` to apply different interest rates based on balance\n"
   ]
  },
  {
   "cell_type": "code",
   "execution_count": 94,
   "id": "ec7e7749",
   "metadata": {},
   "outputs": [],
   "source": [
    "#**Q15.5:** Use `np.apply_along_axis` to calculate the sum of each row\n"
   ]
  },
  {
   "cell_type": "code",
   "execution_count": null,
   "id": "c10ca9b3",
   "metadata": {},
   "outputs": [],
   "source": [
    "### Question 16: Array Concatenation and Stacking"
   ]
  },
  {
   "cell_type": "code",
   "execution_count": null,
   "id": "d667bcbb",
   "metadata": {},
   "outputs": [
    {
     "data": {
      "text/plain": [
       "array([5, 6, 7, 1, 2, 3])"
      ]
     },
     "execution_count": 96,
     "metadata": {},
     "output_type": "execute_result"
    }
   ],
   "source": [
    "#**Q16.1:** Concatenate two arrays horizontally using `np.hstack()`\n",
    "ar1=np.array([5,6,7])\n",
    "ar2=np.array([1,2,3])\n",
    "hs=np.hstack([ar1,ar2])\n",
    "hs"
   ]
  },
  {
   "cell_type": "code",
   "execution_count": null,
   "id": "fb6f669f",
   "metadata": {},
   "outputs": [
    {
     "data": {
      "text/plain": [
       "array([[5, 6, 7],\n",
       "       [1, 2, 3]])"
      ]
     },
     "execution_count": 97,
     "metadata": {},
     "output_type": "execute_result"
    }
   ],
   "source": [
    "#**Q16.2:** Concatenate two arrays vertically using `np.vstack()`\n",
    "vs=np.vstack([ar1,ar2])\n",
    "vs"
   ]
  },
  {
   "cell_type": "code",
   "execution_count": null,
   "id": "d656cd54",
   "metadata": {},
   "outputs": [
    {
     "data": {
      "text/plain": [
       "array([5, 6, 7, 1, 2, 3])"
      ]
     },
     "execution_count": 98,
     "metadata": {},
     "output_type": "execute_result"
    }
   ],
   "source": [
    "#**Q16.3:** Concatenate arrays along a specific axis using `np.concatenate()`\n",
    "con=np.concatenate([ar1,ar2])\n",
    "con"
   ]
  },
  {
   "cell_type": "code",
   "execution_count": null,
   "id": "da0e3fba",
   "metadata": {},
   "outputs": [
    {
     "data": {
      "text/plain": [
       "array([[[5, 1],\n",
       "        [6, 2],\n",
       "        [7, 3]]])"
      ]
     },
     "execution_count": 99,
     "metadata": {},
     "output_type": "execute_result"
    }
   ],
   "source": [
    "#**Q16.4:** Stack arrays depth-wise using `np.dstack()`\n",
    "st=np.dstack([ar1,ar2])\n",
    "st"
   ]
  },
  {
   "cell_type": "code",
   "execution_count": null,
   "id": "64fab6a8",
   "metadata": {},
   "outputs": [
    {
     "data": {
      "text/plain": [
       "array([[5, 1],\n",
       "       [6, 2],\n",
       "       [7, 3]])"
      ]
     },
     "execution_count": 100,
     "metadata": {},
     "output_type": "execute_result"
    }
   ],
   "source": [
    "#**Q16.5:** Create a column stack using `np.column_stack()`\n",
    "cln=np.column_stack([ar1,ar2])\n",
    "cln"
   ]
  },
  {
   "cell_type": "code",
   "execution_count": null,
   "id": "eea5e4bb",
   "metadata": {},
   "outputs": [],
   "source": [
    "### Question 17: Array Splitting Operations"
   ]
  },
  {
   "cell_type": "code",
   "execution_count": null,
   "id": "a10d2a9e",
   "metadata": {},
   "outputs": [
    {
     "name": "stdout",
     "output_type": "stream",
     "text": [
      "[array([1, 3, 5]), array([7, 9, 2]), array([4, 6, 8])]\n",
      "[array([1, 3, 5]), array([7, 9, 2]), array([4, 6, 8])]\n",
      "[array([1, 3, 5]), array([7, 9, 2]), array([4, 6, 8])]\n",
      "[array([1, 3, 5]), array([7, 9, 2]), array([4, 6, 8])]\n"
     ]
    }
   ],
   "source": [
    "#**Q17.1:** Split an array into 3 equal parts using `np.split()`\n",
    "sp=np.array([1,3,5,7,9,2,4,6,8])\n",
    "sla=np.split(sp, 3)\n",
    "print(sla)\n",
    "for i,part in enumerate(sla):\n",
    "    print(sla)"
   ]
  },
  {
   "cell_type": "code",
   "execution_count": null,
   "id": "c70a7c2a",
   "metadata": {},
   "outputs": [
    {
     "name": "stdout",
     "output_type": "stream",
     "text": [
      "[array([1, 3, 5, 7, 9, 2, 4]), array([6, 8]), array([], dtype=int32), array([5, 7, 9, 2, 4, 6, 8])]\n",
      "[array([1, 3, 5, 7, 9, 2, 4]), array([6, 8]), array([], dtype=int32), array([5, 7, 9, 2, 4, 6, 8])]\n",
      "[array([1, 3, 5, 7, 9, 2, 4]), array([6, 8]), array([], dtype=int32), array([5, 7, 9, 2, 4, 6, 8])]\n",
      "[array([1, 3, 5, 7, 9, 2, 4]), array([6, 8]), array([], dtype=int32), array([5, 7, 9, 2, 4, 6, 8])]\n",
      "[array([1, 3, 5, 7, 9, 2, 4]), array([6, 8]), array([], dtype=int32), array([5, 7, 9, 2, 4, 6, 8])]\n"
     ]
    }
   ],
   "source": [
    "#**Q17.2:** Split an array at specific indices using `np.split()`\n",
    "si=np.split(sp,[7,9,2])\n",
    "print(si)\n",
    "for i,part in enumerate(si):\n",
    "    print(si)"
   ]
  },
  {
   "cell_type": "code",
   "execution_count": null,
   "id": "d8c9b578",
   "metadata": {},
   "outputs": [
    {
     "name": "stdout",
     "output_type": "stream",
     "text": [
      "[array([1, 3, 5]), array([7, 9, 2]), array([4, 6, 8])]\n",
      "[array([1, 3, 5]), array([7, 9, 2]), array([4, 6, 8])]\n",
      "[array([1, 3, 5]), array([7, 9, 2]), array([4, 6, 8])]\n",
      "[array([1, 3, 5]), array([7, 9, 2]), array([4, 6, 8])]\n"
     ]
    }
   ],
   "source": [
    "#**Q17.3:** Split an array horizontally using `np.hsplit()`\n",
    "sp=np.array([1,3,5,7,9,2,4,6,8])\n",
    "sh=np.hsplit(sp, 3)\n",
    "print(sh)\n",
    "for i,part in enumerate(sh):\n",
    "    print(sh)"
   ]
  },
  {
   "cell_type": "code",
   "execution_count": null,
   "id": "71830f51",
   "metadata": {},
   "outputs": [
    {
     "ename": "ValueError",
     "evalue": "vsplit only works on arrays of 2 or more dimensions",
     "output_type": "error",
     "traceback": [
      "\u001b[1;31m---------------------------------------------------------------------------\u001b[0m",
      "\u001b[1;31mValueError\u001b[0m                                Traceback (most recent call last)",
      "Cell \u001b[1;32mIn[122], line 2\u001b[0m\n\u001b[0;32m      1\u001b[0m \u001b[38;5;66;03m# **Q17.4:** Split an array vertically using `np.vsplit()`\u001b[39;00m\n\u001b[1;32m----> 2\u001b[0m A\u001b[38;5;241m=\u001b[39m \u001b[43mnp\u001b[49m\u001b[38;5;241;43m.\u001b[39;49m\u001b[43mvsplit\u001b[49m\u001b[43m(\u001b[49m\u001b[43msp\u001b[49m\u001b[43m,\u001b[49m\u001b[43m \u001b[49m\u001b[38;5;241;43m2\u001b[39;49m\u001b[43m)\u001b[49m\n\u001b[0;32m      3\u001b[0m \u001b[38;5;28mprint\u001b[39m(A)\n\u001b[0;32m      4\u001b[0m \u001b[38;5;28;01mfor\u001b[39;00m i,part \u001b[38;5;129;01min\u001b[39;00m \u001b[38;5;28menumerate\u001b[39m(A):\n",
      "File \u001b[1;32m<__array_function__ internals>:180\u001b[0m, in \u001b[0;36mvsplit\u001b[1;34m(*args, **kwargs)\u001b[0m\n",
      "File \u001b[1;32mc:\\ProgramData\\anaconda3\\lib\\site-packages\\numpy\\lib\\shape_base.py:996\u001b[0m, in \u001b[0;36mvsplit\u001b[1;34m(ary, indices_or_sections)\u001b[0m\n\u001b[0;32m    953\u001b[0m \u001b[38;5;124;03m\"\"\"\u001b[39;00m\n\u001b[0;32m    954\u001b[0m \u001b[38;5;124;03mSplit an array into multiple sub-arrays vertically (row-wise).\u001b[39;00m\n\u001b[0;32m    955\u001b[0m \n\u001b[1;32m   (...)\u001b[0m\n\u001b[0;32m    993\u001b[0m \n\u001b[0;32m    994\u001b[0m \u001b[38;5;124;03m\"\"\"\u001b[39;00m\n\u001b[0;32m    995\u001b[0m \u001b[38;5;28;01mif\u001b[39;00m _nx\u001b[38;5;241m.\u001b[39mndim(ary) \u001b[38;5;241m<\u001b[39m \u001b[38;5;241m2\u001b[39m:\n\u001b[1;32m--> 996\u001b[0m     \u001b[38;5;28;01mraise\u001b[39;00m \u001b[38;5;167;01mValueError\u001b[39;00m(\u001b[38;5;124m'\u001b[39m\u001b[38;5;124mvsplit only works on arrays of 2 or more dimensions\u001b[39m\u001b[38;5;124m'\u001b[39m)\n\u001b[0;32m    997\u001b[0m \u001b[38;5;28;01mreturn\u001b[39;00m split(ary, indices_or_sections, \u001b[38;5;241m0\u001b[39m)\n",
      "\u001b[1;31mValueError\u001b[0m: vsplit only works on arrays of 2 or more dimensions"
     ]
    }
   ],
   "source": [
    "#**Q17.4:** Split an array vertically using `np.vsplit()`\n",
    "A=np.vsplit(sp, 2)\n",
    "print(A)\n",
    "for i,part in enumerate(A):\n",
    "    print(A)"
   ]
  },
  {
   "cell_type": "code",
   "execution_count": null,
   "id": "273ff8eb",
   "metadata": {},
   "outputs": [
    {
     "name": "stdout",
     "output_type": "stream",
     "text": [
      "[array([1, 3, 5]), array([7, 9]), array([2, 4]), array([6, 8])]\n",
      "[array([1, 3, 5]), array([7, 9]), array([2, 4]), array([6, 8])]\n",
      "[array([1, 3, 5]), array([7, 9]), array([2, 4]), array([6, 8])]\n",
      "[array([1, 3, 5]), array([7, 9]), array([2, 4]), array([6, 8])]\n",
      "[array([1, 3, 5]), array([7, 9]), array([2, 4]), array([6, 8])]\n"
     ]
    }
   ],
   "source": [
    "#**Q17.5:** Split an array into equal chunks using `np.array_split()`\n",
    "ch=np.array_split(sp,4)\n",
    "print(ch)\n",
    "for i,chunk in enumerate(ch):\n",
    "    print(ch)"
   ]
  },
  {
   "cell_type": "code",
   "execution_count": null,
   "id": "395d1e81",
   "metadata": {},
   "outputs": [],
   "source": [
    "### Question 18: Array Repetition and Tiling"
   ]
  },
  {
   "cell_type": "code",
   "execution_count": null,
   "id": "813f1822",
   "metadata": {},
   "outputs": [
    {
     "data": {
      "text/plain": [
       "array([5, 5, 5, 6, 6, 6, 7, 7, 7])"
      ]
     },
     "execution_count": 123,
     "metadata": {},
     "output_type": "execute_result"
    }
   ],
   "source": [
    "#**Q18.1:** Repeat each element of an array 3 times using `np.repeat()`\n",
    "nrp=np.repeat(ar1,3)\n",
    "nrp"
   ]
  },
  {
   "cell_type": "code",
   "execution_count": null,
   "id": "0c053890",
   "metadata": {},
   "outputs": [
    {
     "data": {
      "text/plain": [
       "array([1, 2, 3, 1, 2, 3])"
      ]
     },
     "execution_count": 124,
     "metadata": {},
     "output_type": "execute_result"
    }
   ],
   "source": [
    "#**Q18.2:** Repeat an entire array 2 times using `np.tile()`\n",
    "nt=np.tile(ar2,2)\n",
    "nt"
   ]
  },
  {
   "cell_type": "code",
   "execution_count": null,
   "id": "d842ed79",
   "metadata": {},
   "outputs": [
    {
     "data": {
      "text/plain": [
       "array([[1, 2, 4, 1, 2, 4, 1, 2, 4],\n",
       "       [3, 4, 6, 3, 4, 6, 3, 4, 6],\n",
       "       [1, 2, 4, 1, 2, 4, 1, 2, 4],\n",
       "       [3, 4, 6, 3, 4, 6, 3, 4, 6]])"
      ]
     },
     "execution_count": 129,
     "metadata": {},
     "output_type": "execute_result"
    }
   ],
   "source": [
    "#**Q18.3:** Repeat a 2D array using `np.tile()`\n",
    "W=np.array([[1,2,4],[3,4,6]])\n",
    "dt=np.tile(W,(2,3))\n",
    "dt"
   ]
  },
  {
   "cell_type": "code",
   "execution_count": null,
   "id": "7b8bb533",
   "metadata": {},
   "outputs": [
    {
     "data": {
      "text/plain": [
       "array([1, 2, 1, 2, 1, 2, 1, 2, 1, 2, 1, 2])"
      ]
     },
     "execution_count": 131,
     "metadata": {},
     "output_type": "execute_result"
    }
   ],
   "source": [
    "#**Q18.4:** Create a pattern using `np.tile()`\n",
    "pt=np.array([1,2])\n",
    "ptl=np.tile(pt,6)\n",
    "ptl"
   ]
  },
  {
   "cell_type": "code",
   "execution_count": null,
   "id": "0065d84a",
   "metadata": {},
   "outputs": [
    {
     "data": {
      "text/plain": [
       "array([5, 5, 5, 5, 5, 5, 6, 6, 6, 6, 6, 6, 6, 6, 6, 7, 7, 7, 7, 7])"
      ]
     },
     "execution_count": 134,
     "metadata": {},
     "output_type": "execute_result"
    }
   ],
   "source": [
    "#**Q18.5:** Repeat elements with different counts using `np.repeat()`\n",
    "rep=[6,9,5]\n",
    "cr=np.repeat(ar1,rep)\n",
    "cr"
   ]
  },
  {
   "cell_type": "code",
   "execution_count": null,
   "id": "92d0a0a3",
   "metadata": {},
   "outputs": [],
   "source": [
    "### Question 19: Array Comparison and Logical Operations"
   ]
  },
  {
   "cell_type": "code",
   "execution_count": null,
   "id": "5b086f9c",
   "metadata": {},
   "outputs": [],
   "source": [
    "#**Q19.1:** Compare two arrays for equality using `np.array_equal()`\n"
   ]
  },
  {
   "cell_type": "code",
   "execution_count": null,
   "id": "5e9c4fed",
   "metadata": {},
   "outputs": [],
   "source": [
    "#**Q19.2:** Check if arrays are close using `np.allclose()`\n"
   ]
  },
  {
   "cell_type": "code",
   "execution_count": null,
   "id": "6380343b",
   "metadata": {},
   "outputs": [],
   "source": [
    "#**Q19.3:** Apply logical AND operation between arrays\n"
   ]
  },
  {
   "cell_type": "code",
   "execution_count": null,
   "id": "19bc9c89",
   "metadata": {},
   "outputs": [],
   "source": [
    "#**Q19.4:** Apply logical OR operation between arrays\n"
   ]
  },
  {
   "cell_type": "code",
   "execution_count": null,
   "id": "d195b12d",
   "metadata": {},
   "outputs": [],
   "source": [
    "#**Q19.5:** Apply logical NOT operation to an array\n"
   ]
  },
  {
   "cell_type": "code",
   "execution_count": null,
   "id": "ae5e9055",
   "metadata": {},
   "outputs": [],
   "source": [
    "### Question 20: Array Set Operations"
   ]
  },
  {
   "cell_type": "code",
   "execution_count": null,
   "id": "39423333",
   "metadata": {},
   "outputs": [],
   "source": [
    "#**Q20.1:** Find unique elements in an array using `np.unique()`\n",
    "\n"
   ]
  },
  {
   "cell_type": "code",
   "execution_count": null,
   "id": "f0c7fccb",
   "metadata": {},
   "outputs": [],
   "source": [
    "#**Q20.2:** Find the intersection of two arrays using `np.intersect1d()`\n",
    "\n"
   ]
  },
  {
   "cell_type": "code",
   "execution_count": null,
   "id": "e356a027",
   "metadata": {},
   "outputs": [],
   "source": [
    "#**Q20.3:** Find the union of two arrays using `np.union1d()`\n",
    "\n"
   ]
  },
  {
   "cell_type": "code",
   "execution_count": null,
   "id": "5d076e23",
   "metadata": {},
   "outputs": [],
   "source": [
    "#**Q20.4:** Find elements in first array but not in second using `np.setdiff1d()`\n",
    "\n"
   ]
  },
  {
   "cell_type": "code",
   "execution_count": null,
   "id": "9084f249",
   "metadata": {},
   "outputs": [],
   "source": [
    "#**Q20.5:** Find the symmetric difference between two arrays using `np.setxor1d()`\n"
   ]
  }
 ],
 "metadata": {
  "kernelspec": {
   "display_name": "base",
   "language": "python",
   "name": "python3"
  },
  "language_info": {
   "codemirror_mode": {
    "name": "ipython",
    "version": 3
   },
   "file_extension": ".py",
   "mimetype": "text/x-python",
   "name": "python",
   "nbconvert_exporter": "python",
   "pygments_lexer": "ipython3",
   "version": "3.10.9"
  }
 },
 "nbformat": 4,
 "nbformat_minor": 5
}
