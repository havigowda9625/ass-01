{
 "cells": [
  {
   "cell_type": "code",
   "execution_count": 130,
   "id": "c77b088f",
   "metadata": {},
   "outputs": [],
   "source": [
    "### Question 1: Array Creation and Manipulation"
   ]
  },
  {
   "cell_type": "code",
   "execution_count": 131,
   "id": "f6b320ab",
   "metadata": {},
   "outputs": [],
   "source": [
    "import numpy as np\n",
    "import pandas as pd"
   ]
  },
  {
   "cell_type": "code",
   "execution_count": 132,
   "id": "c35452b9",
   "metadata": {},
   "outputs": [
    {
     "name": "stdout",
     "output_type": "stream",
     "text": [
      "[[1. 0. 0. 0.]\n",
      " [0. 1. 0. 0.]\n",
      " [0. 0. 1. 0.]\n",
      " [0. 0. 0. 1.]]\n"
     ]
    }
   ],
   "source": [
    "#**Q1.1:** Create a 4x4 identity matrix using `np.eye()`\n",
    "N=np.eye(4)\n",
    "print(N)"
   ]
  },
  {
   "cell_type": "code",
   "execution_count": 133,
   "id": "39c79523",
   "metadata": {},
   "outputs": [
    {
     "name": "stdout",
     "output_type": "stream",
     "text": [
      "[0. 0. 0. 0. 0. 0. 0. 0.]\n"
     ]
    }
   ],
   "source": [
    "#**Q1.2:** Create an array of 8 zeros using `np.zeros()`\n",
    "N=np.zeros(8)\n",
    "print(N)"
   ]
  },
  {
   "cell_type": "code",
   "execution_count": 134,
   "id": "36e33ca3",
   "metadata": {},
   "outputs": [
    {
     "name": "stdout",
     "output_type": "stream",
     "text": [
      "[1. 1. 1. 1. 1. 1.]\n"
     ]
    }
   ],
   "source": [
    "#**Q1.3:** Create an array of 6 ones using `np.ones()`\n",
    "N=np.ones(6)\n",
    "print(N)"
   ]
  },
  {
   "cell_type": "code",
   "execution_count": 135,
   "id": "2f757615",
   "metadata": {},
   "outputs": [
    {
     "name": "stdout",
     "output_type": "stream",
     "text": [
      "[ 0  1  2  3  4  5  6  7  8  9 10 11 12 13 14 15]\n"
     ]
    }
   ],
   "source": [
    "#**Q1.4:** Create an array with values from 0 to 15 using `np.arange()`\n",
    "N=np.arange(16)\n",
    "print(N)\n"
   ]
  },
  {
   "cell_type": "code",
   "execution_count": 136,
   "id": "889d9cbd",
   "metadata": {},
   "outputs": [
    {
     "name": "stdout",
     "output_type": "stream",
     "text": [
      "[  0.          14.28571429  28.57142857  42.85714286  57.14285714\n",
      "  71.42857143  85.71428571 100.        ]\n"
     ]
    }
   ],
   "source": [
    "#**Q1.5:** Create an array with 8 evenly spaced values from 0 to 100 using `np.linspace()`\n",
    "N=np.linspace(0,100,8)\n",
    "print(N)"
   ]
  },
  {
   "cell_type": "code",
   "execution_count": 137,
   "id": "ef4ca120",
   "metadata": {},
   "outputs": [],
   "source": [
    "### Question 2: Array Attributes and Information"
   ]
  },
  {
   "cell_type": "code",
   "execution_count": 138,
   "id": "69ad4c21",
   "metadata": {},
   "outputs": [
    {
     "data": {
      "text/plain": [
       "array([[9.01000e+02, 1.27740e+02, 6.90000e+02, 2.70000e+01, 1.10000e+01],\n",
       "       [9.02000e+02, 7.80482e+03, 8.65000e+02, 2.60000e+01, 1.80000e+01],\n",
       "       [9.00000e+02, 7.23357e+03, 3.12000e+02, 1.10000e+01, 1.60000e+01],\n",
       "       [9.04000e+02, 4.96656e+03, 3.03000e+02, 1.80000e+01, 1.90000e+01],\n",
       "       [9.05000e+02, 7.81121e+03, 6.83000e+02, 1.30000e+01, 1.70000e+01],\n",
       "       [9.06000e+02, 3.70361e+03, 3.69000e+02, 5.00000e+01, 1.40000e+01],\n",
       "       [9.07000e+02, 6.70298e+03, 6.79000e+02, 3.50000e+01, 7.00000e+00],\n",
       "       [9.08000e+02, 8.12851e+03, 4.95000e+02, 4.30000e+01, 1.60000e+01],\n",
       "       [9.09000e+02, 5.58168e+03, 3.02000e+02, 1.70000e+01, 2.10000e+01],\n",
       "       [9.10000e+02, 9.07888e+03, 7.73000e+02, 3.50000e+01, 3.00000e+00]])"
      ]
     },
     "execution_count": 138,
     "metadata": {},
     "output_type": "execute_result"
    }
   ],
   "source": [
    "#The assignment uses banking industry data with 10 rows × 5 columns:\n",
    "#- **Customer_ID**: Unique identifier for each customer\n",
    "#- **Account_Balance**: Customer's account balance in dollars\n",
    "#- **Credit_Score**: Customer's credit score (300-900 range)\n",
    "#- **Transaction_Count**: Number of transactions in the last month\n",
    "#- **Years_Active**: Number of years the customer has been with the bank\n",
    "\n",
    "import numpy as np\n",
    "banking_industry= np.array([\n",
    "(901,127.74,690,27,11),\n",
    "(902,7804.82,865,26,18),\n",
    "(900,7233.57,312,11,16),\n",
    "(904,4966.56,303,18,19),\n",
    "(905,7811.21,683,13,17),\n",
    "(906,3703.61,369,50,14),\n",
    "(907,6702.98,679,35,7),\n",
    "(908,8128.51,495,43,16),\n",
    "(909,5581.68,302,17,21),\n",
    "(910,9078.88,773,35,3)\n",
    "])\n",
    "banking_industry\n"
   ]
  },
  {
   "cell_type": "code",
   "execution_count": 139,
   "id": "a2d154f6",
   "metadata": {},
   "outputs": [
    {
     "name": "stdout",
     "output_type": "stream",
     "text": [
      "(10, 5)\n"
     ]
    }
   ],
   "source": [
    "#**Q2.1:** What is the shape of the `banking_data` array?\n",
    "print(banking_industry.shape)"
   ]
  },
  {
   "cell_type": "code",
   "execution_count": 140,
   "id": "b9a81fe8",
   "metadata": {},
   "outputs": [
    {
     "name": "stdout",
     "output_type": "stream",
     "text": [
      "<memory at 0x000002A1FBC80930>\n"
     ]
    }
   ],
   "source": [
    "#**Q2.2:** What is the data type of the `banking_data` array?\n",
    "print(banking_industry.data)"
   ]
  },
  {
   "cell_type": "code",
   "execution_count": 141,
   "id": "e5e5ec8b",
   "metadata": {},
   "outputs": [
    {
     "name": "stdout",
     "output_type": "stream",
     "text": [
      "50\n"
     ]
    }
   ],
   "source": [
    "#**Q2.3:** What is the size (total number of elements) of the `banking_data` array?\n",
    "print(banking_industry.size)"
   ]
  },
  {
   "cell_type": "code",
   "execution_count": 142,
   "id": "bab7b464",
   "metadata": {},
   "outputs": [
    {
     "name": "stdout",
     "output_type": "stream",
     "text": [
      "2\n"
     ]
    }
   ],
   "source": [
    "#**Q2.4:** What is the number of dimensions of the `banking_data` array?\n",
    "print(banking_industry.ndim)\n"
   ]
  },
  {
   "cell_type": "code",
   "execution_count": 143,
   "id": "47ec72ff",
   "metadata": {},
   "outputs": [
    {
     "name": "stdout",
     "output_type": "stream",
     "text": [
      "400\n"
     ]
    }
   ],
   "source": [
    "#**Q2.5:** What is the memory size of the `banking_data` array in bytes?\n",
    "print(banking_industry.nbytes)"
   ]
  },
  {
   "cell_type": "code",
   "execution_count": 144,
   "id": "13f697ac",
   "metadata": {},
   "outputs": [],
   "source": [
    "### Question 3: Indexing and Slicing\n"
   ]
  },
  {
   "cell_type": "code",
   "execution_count": 145,
   "id": "b0a4a9c6",
   "metadata": {},
   "outputs": [
    {
     "name": "stdout",
     "output_type": "stream",
     "text": [
      "[901.   127.74 690.    27.    11.  ]\n"
     ]
    }
   ],
   "source": [
    "#**Q3.1:** Extract the first row of `banking_data`\n",
    "N=banking_industry[0]\n",
    "print(N)"
   ]
  },
  {
   "cell_type": "code",
   "execution_count": 146,
   "id": "2f5df9ee",
   "metadata": {},
   "outputs": [
    {
     "name": "stdout",
     "output_type": "stream",
     "text": [
      "[9.10000e+02 9.07888e+03 7.73000e+02 3.50000e+01 3.00000e+00]\n"
     ]
    }
   ],
   "source": [
    "#**Q3.2:** Extract the last row of `banking_data`\n",
    "N=banking_industry[9]\n",
    "print(N)"
   ]
  },
  {
   "cell_type": "code",
   "execution_count": 147,
   "id": "64659d89",
   "metadata": {},
   "outputs": [
    {
     "name": "stdout",
     "output_type": "stream",
     "text": [
      "[ 127.74 7804.82 7233.57 4966.56 7811.21 3703.61 6702.98 8128.51 5581.68\n",
      " 9078.88]\n"
     ]
    }
   ],
   "source": [
    "#**Q3.3:** Extract the Account_Balance column (column index 1)\n",
    "N=banking_industry[:,1]\n",
    "print(N)\n"
   ]
  },
  {
   "cell_type": "code",
   "execution_count": 148,
   "id": "9cb03bdc",
   "metadata": {},
   "outputs": [
    {
     "name": "stdout",
     "output_type": "stream",
     "text": [
      "[[ 901.    127.74  690.  ]\n",
      " [ 902.   7804.82  865.  ]\n",
      " [ 900.   7233.57  312.  ]\n",
      " [ 904.   4966.56  303.  ]]\n"
     ]
    }
   ],
   "source": [
    "#**Q3.4:** Extract the first 4 rows and first 3 columns\n",
    "N=banking_industry[:4,:3]\n",
    "print(N)"
   ]
  },
  {
   "cell_type": "code",
   "execution_count": 149,
   "id": "33adda19",
   "metadata": {},
   "outputs": [
    {
     "name": "stdout",
     "output_type": "stream",
     "text": [
      "[[9.04000e+02 4.96656e+03 3.03000e+02 1.80000e+01 1.90000e+01]\n",
      " [9.05000e+02 7.81121e+03 6.83000e+02 1.30000e+01 1.70000e+01]\n",
      " [9.06000e+02 3.70361e+03 3.69000e+02 5.00000e+01 1.40000e+01]\n",
      " [9.07000e+02 6.70298e+03 6.79000e+02 3.50000e+01 7.00000e+00]]\n"
     ]
    }
   ],
   "source": [
    "#**Q3.5:** Extract rows 3 to 7 (inclusive)\n",
    "N=banking_industry[3:7]\n",
    "print(N)"
   ]
  },
  {
   "cell_type": "code",
   "execution_count": 150,
   "id": "4ce5c2ce",
   "metadata": {},
   "outputs": [],
   "source": [
    "### Question 4: Mathematical Operations"
   ]
  },
  {
   "cell_type": "code",
   "execution_count": 151,
   "id": "9b4aca49",
   "metadata": {},
   "outputs": [
    {
     "name": "stdout",
     "output_type": "stream",
     "text": [
      "61139.56\n"
     ]
    }
   ],
   "source": [
    "#**Q4.1:** Calculate the sum of all account balances\n",
    "N=np.sum(banking_industry[:,1])\n",
    "print(N)"
   ]
  },
  {
   "cell_type": "code",
   "execution_count": 152,
   "id": "488deed3",
   "metadata": {},
   "outputs": [
    {
     "name": "stdout",
     "output_type": "stream",
     "text": [
      "6113.956\n"
     ]
    }
   ],
   "source": [
    "#**Q4.2:** Calculate the mean account balance\n",
    "N=np.mean(banking_industry[:,1])\n",
    "print(N)"
   ]
  },
  {
   "cell_type": "code",
   "execution_count": 153,
   "id": "f2beb9ce",
   "metadata": {},
   "outputs": [
    {
     "name": "stdout",
     "output_type": "stream",
     "text": [
      "2518.606048842097\n"
     ]
    }
   ],
   "source": [
    "#**Q4.3:** Calculate the standard deviation of account balances\n",
    "N=np.std(banking_industry[:,1])\n",
    "print(N)"
   ]
  },
  {
   "cell_type": "code",
   "execution_count": 154,
   "id": "e1c07301",
   "metadata": {},
   "outputs": [
    {
     "name": "stdout",
     "output_type": "stream",
     "text": [
      "6343376.429264\n"
     ]
    }
   ],
   "source": [
    "#**Q4.4:** Calculate the variance of account balances\n",
    "N=np.var(banking_industry[:,1])\n",
    "print(N)"
   ]
  },
  {
   "cell_type": "code",
   "execution_count": 155,
   "id": "2747f841",
   "metadata": {},
   "outputs": [
    {
     "name": "stdout",
     "output_type": "stream",
     "text": [
      "6968.275\n"
     ]
    }
   ],
   "source": [
    "#**Q4.5:** Calculate the median account balance\n",
    "N=np.median(banking_industry[:,1])\n",
    "print(N)"
   ]
  },
  {
   "cell_type": "code",
   "execution_count": 156,
   "id": "12461d39",
   "metadata": {},
   "outputs": [],
   "source": [
    "### Question 5: Statistical Functions\n"
   ]
  },
  {
   "cell_type": "code",
   "execution_count": 157,
   "id": "d4462527",
   "metadata": {},
   "outputs": [
    {
     "data": {
      "text/plain": [
       "(127.74, 9078.88)"
      ]
     },
     "execution_count": 157,
     "metadata": {},
     "output_type": "execute_result"
    }
   ],
   "source": [
    "#**Q5.1:** Find the minimum and maximum account balances\n",
    "min_bal=np.min(banking_industry[:,1])\n",
    "max_bal=np.max(banking_industry[:,1])\n",
    "min_bal,max_bal"
   ]
  },
  {
   "cell_type": "code",
   "execution_count": 158,
   "id": "19158a8d",
   "metadata": {},
   "outputs": [
    {
     "data": {
      "text/plain": [
       "(302.0, 865.0)"
      ]
     },
     "execution_count": 158,
     "metadata": {},
     "output_type": "execute_result"
    }
   ],
   "source": [
    "#**Q5.2:** Find the minimum and maximum credit scores\n",
    "min_cr=np.min(banking_industry[:,2])\n",
    "max_cr=np.max(banking_industry[:,2])\n",
    "min_cr,max_cr"
   ]
  },
  {
   "cell_type": "code",
   "execution_count": 159,
   "id": "2cad7c40",
   "metadata": {},
   "outputs": [
    {
     "data": {
      "text/plain": [
       "array([5120.34  , 6968.275 , 7809.6125])"
      ]
     },
     "execution_count": 159,
     "metadata": {},
     "output_type": "execute_result"
    }
   ],
   "source": [
    "#**Q5.3:** Calculate the percentile values for account balances (25th, 50th, 75th)\n",
    "per=np.percentile(banking_industry[:,1],[25,50,75])\n",
    "per"
   ]
  },
  {
   "cell_type": "code",
   "execution_count": 160,
   "id": "a86cb217",
   "metadata": {},
   "outputs": [
    {
     "data": {
      "text/plain": [
       "0.21987685564568069"
      ]
     },
     "execution_count": 160,
     "metadata": {},
     "output_type": "execute_result"
    }
   ],
   "source": [
    "#**Q5.4:** Calculate the correlation between account balance and credit score\n",
    "cor=np.corrcoef(banking_industry[:,1],banking_industry[:,2])[0,1]\n",
    "cor"
   ]
  },
  {
   "cell_type": "code",
   "execution_count": 161,
   "id": "4bed4f25",
   "metadata": {},
   "outputs": [
    {
     "data": {
      "text/plain": [
       "125762.68155555548"
      ]
     },
     "execution_count": 161,
     "metadata": {},
     "output_type": "execute_result"
    }
   ],
   "source": [
    "#**Q5.5:** Calculate the covariance between account balance and credit score\n",
    "cova=np.cov(banking_industry[:,1],banking_industry[:,2])[0,1]\n",
    "cova"
   ]
  },
  {
   "cell_type": "code",
   "execution_count": 162,
   "id": "3ddb0c40",
   "metadata": {},
   "outputs": [],
   "source": [
    "### Question 6: Array Reshaping and Manipulation"
   ]
  },
  {
   "cell_type": "code",
   "execution_count": 163,
   "id": "731f26e4",
   "metadata": {},
   "outputs": [
    {
     "data": {
      "text/plain": [
       "array([[9.01000e+02, 1.27740e+02, 6.90000e+02, 2.70000e+01, 1.10000e+01,\n",
       "        9.02000e+02, 7.80482e+03, 8.65000e+02, 2.60000e+01, 1.80000e+01],\n",
       "       [9.00000e+02, 7.23357e+03, 3.12000e+02, 1.10000e+01, 1.60000e+01,\n",
       "        9.04000e+02, 4.96656e+03, 3.03000e+02, 1.80000e+01, 1.90000e+01],\n",
       "       [9.05000e+02, 7.81121e+03, 6.83000e+02, 1.30000e+01, 1.70000e+01,\n",
       "        9.06000e+02, 3.70361e+03, 3.69000e+02, 5.00000e+01, 1.40000e+01],\n",
       "       [9.07000e+02, 6.70298e+03, 6.79000e+02, 3.50000e+01, 7.00000e+00,\n",
       "        9.08000e+02, 8.12851e+03, 4.95000e+02, 4.30000e+01, 1.60000e+01],\n",
       "       [9.09000e+02, 5.58168e+03, 3.02000e+02, 1.70000e+01, 2.10000e+01,\n",
       "        9.10000e+02, 9.07888e+03, 7.73000e+02, 3.50000e+01, 3.00000e+00]])"
      ]
     },
     "execution_count": 163,
     "metadata": {},
     "output_type": "execute_result"
    }
   ],
   "source": [
    "#**Q6.1:** Reshape the `banking_data` to 5 rows × 10 columns\n",
    "resh=banking_industry.reshape(5,10)\n",
    "resh\n"
   ]
  },
  {
   "cell_type": "code",
   "execution_count": 164,
   "id": "8dd0f526",
   "metadata": {},
   "outputs": [
    {
     "data": {
      "text/plain": [
       "array([9.01000e+02, 1.27740e+02, 6.90000e+02, 2.70000e+01, 1.10000e+01,\n",
       "       9.02000e+02, 7.80482e+03, 8.65000e+02, 2.60000e+01, 1.80000e+01,\n",
       "       9.00000e+02, 7.23357e+03, 3.12000e+02, 1.10000e+01, 1.60000e+01,\n",
       "       9.04000e+02, 4.96656e+03, 3.03000e+02, 1.80000e+01, 1.90000e+01,\n",
       "       9.05000e+02, 7.81121e+03, 6.83000e+02, 1.30000e+01, 1.70000e+01,\n",
       "       9.06000e+02, 3.70361e+03, 3.69000e+02, 5.00000e+01, 1.40000e+01,\n",
       "       9.07000e+02, 6.70298e+03, 6.79000e+02, 3.50000e+01, 7.00000e+00,\n",
       "       9.08000e+02, 8.12851e+03, 4.95000e+02, 4.30000e+01, 1.60000e+01,\n",
       "       9.09000e+02, 5.58168e+03, 3.02000e+02, 1.70000e+01, 2.10000e+01,\n",
       "       9.10000e+02, 9.07888e+03, 7.73000e+02, 3.50000e+01, 3.00000e+00])"
      ]
     },
     "execution_count": 164,
     "metadata": {},
     "output_type": "execute_result"
    }
   ],
   "source": [
    "#**Q6.2:** Flatten the `banking_data` to a 1D array\n",
    "flat=banking_industry.flatten()\n",
    "flat"
   ]
  },
  {
   "cell_type": "code",
   "execution_count": 165,
   "id": "3198aea6",
   "metadata": {},
   "outputs": [
    {
     "data": {
      "text/plain": [
       "array([[9.01000e+02, 9.02000e+02, 9.00000e+02, 9.04000e+02, 9.05000e+02,\n",
       "        9.06000e+02, 9.07000e+02, 9.08000e+02, 9.09000e+02, 9.10000e+02],\n",
       "       [1.27740e+02, 7.80482e+03, 7.23357e+03, 4.96656e+03, 7.81121e+03,\n",
       "        3.70361e+03, 6.70298e+03, 8.12851e+03, 5.58168e+03, 9.07888e+03],\n",
       "       [6.90000e+02, 8.65000e+02, 3.12000e+02, 3.03000e+02, 6.83000e+02,\n",
       "        3.69000e+02, 6.79000e+02, 4.95000e+02, 3.02000e+02, 7.73000e+02],\n",
       "       [2.70000e+01, 2.60000e+01, 1.10000e+01, 1.80000e+01, 1.30000e+01,\n",
       "        5.00000e+01, 3.50000e+01, 4.30000e+01, 1.70000e+01, 3.50000e+01],\n",
       "       [1.10000e+01, 1.80000e+01, 1.60000e+01, 1.90000e+01, 1.70000e+01,\n",
       "        1.40000e+01, 7.00000e+00, 1.60000e+01, 2.10000e+01, 3.00000e+00]])"
      ]
     },
     "execution_count": 165,
     "metadata": {},
     "output_type": "execute_result"
    }
   ],
   "source": [
    "#**Q6.3:** Transpose the `banking_data`\n",
    "trans=banking_industry.transpose()\n",
    "trans"
   ]
  },
  {
   "cell_type": "code",
   "execution_count": 166,
   "id": "4a94a529",
   "metadata": {},
   "outputs": [
    {
     "data": {
      "text/plain": [
       "array([[9.06000e+02, 3.70361e+03, 3.69000e+02, 5.00000e+01, 1.40000e+01],\n",
       "       [9.07000e+02, 6.70298e+03, 6.79000e+02, 3.50000e+01, 7.00000e+00],\n",
       "       [9.08000e+02, 8.12851e+03, 4.95000e+02, 4.30000e+01, 1.60000e+01],\n",
       "       [9.09000e+02, 5.58168e+03, 3.02000e+02, 1.70000e+01, 2.10000e+01],\n",
       "       [9.10000e+02, 9.07888e+03, 7.73000e+02, 3.50000e+01, 3.00000e+00]])"
      ]
     },
     "execution_count": 166,
     "metadata": {},
     "output_type": "execute_result"
    }
   ],
   "source": [
    "#**Q6.4:** Split the `banking_data` into 2 equal parts vertically\n",
    "sp=np.vsplit(banking_industry,2)\n",
    "sp[0]\n",
    "sp[1]"
   ]
  },
  {
   "cell_type": "code",
   "execution_count": 170,
   "id": "f38ce69e",
   "metadata": {},
   "outputs": [],
   "source": [
    "#**Q6.5:** Split the `banking_data` into 2 equal parts horizontally\n"
   ]
  },
  {
   "cell_type": "code",
   "execution_count": null,
   "id": "0c189826",
   "metadata": {},
   "outputs": [],
   "source": [
    "### Question 7: Logical Operations and Filtering\n"
   ]
  },
  {
   "cell_type": "code",
   "execution_count": null,
   "id": "4e365369",
   "metadata": {},
   "outputs": [
    {
     "data": {
      "text/plain": [
       "(0, 5)"
      ]
     },
     "execution_count": 176,
     "metadata": {},
     "output_type": "execute_result"
    }
   ],
   "source": [
    "#**Q7.1:** Find customers with account balance greater than $100,000\n",
    "cus=banking_industry[banking_industry[:,1]>100000].shape\n",
    "cus"
   ]
  },
  {
   "cell_type": "code",
   "execution_count": 179,
   "id": "162283f9",
   "metadata": {},
   "outputs": [
    {
     "data": {
      "text/plain": [
       "(1, 5)"
      ]
     },
     "execution_count": 179,
     "metadata": {},
     "output_type": "execute_result"
    }
   ],
   "source": [
    "#**Q7.2:** Find customers with credit score greater than 800\n",
    "cus=banking_industry[banking_industry[:,2]>800].shape\n",
    "cus"
   ]
  },
  {
   "cell_type": "code",
   "execution_count": null,
   "id": "ce7ab642",
   "metadata": {},
   "outputs": [],
   "source": [
    "#**Q7.3:** Find customers with transaction count greater than 50 AND credit score less than 750\n"
   ]
  },
  {
   "cell_type": "code",
   "execution_count": 182,
   "id": "abe09091",
   "metadata": {},
   "outputs": [
    {
     "data": {
      "text/plain": [
       "(<module 'numpy' from 'c:\\\\ProgramData\\\\anaconda3\\\\lib\\\\site-packages\\\\numpy\\\\__init__.py'>,\n",
       " 0)"
      ]
     },
     "execution_count": 182,
     "metadata": {},
     "output_type": "execute_result"
    }
   ],
   "source": [
    "#**Q7.4:** Count how many customers have account balance between $10,000 and $100,000\n",
    "cus1=np,sum((banking_industry[:,1]>=10000) & (banking_industry[:,1]<=100000))\n",
    "cus1"
   ]
  },
  {
   "cell_type": "code",
   "execution_count": 184,
   "id": "4acf74f9",
   "metadata": {},
   "outputs": [
    {
     "data": {
      "text/plain": [
       "2"
      ]
     },
     "execution_count": 184,
     "metadata": {},
     "output_type": "execute_result"
    }
   ],
   "source": [
    "#**Q7.5:** Find the index of the customer with the highest credit score\n",
    "hcs=np.argmax(banking_industry[:,2])+1\n",
    "hcs"
   ]
  },
  {
   "cell_type": "code",
   "execution_count": null,
   "id": "28af32d2",
   "metadata": {},
   "outputs": [],
   "source": [
    "#### Question 8: Sorting and Searching"
   ]
  },
  {
   "cell_type": "code",
   "execution_count": 185,
   "id": "51a03e24",
   "metadata": {},
   "outputs": [
    {
     "data": {
      "text/plain": [
       "array([[9.01000e+02, 1.27740e+02, 6.90000e+02, 2.70000e+01, 1.10000e+01],\n",
       "       [9.06000e+02, 3.70361e+03, 3.69000e+02, 5.00000e+01, 1.40000e+01],\n",
       "       [9.04000e+02, 4.96656e+03, 3.03000e+02, 1.80000e+01, 1.90000e+01],\n",
       "       [9.09000e+02, 5.58168e+03, 3.02000e+02, 1.70000e+01, 2.10000e+01],\n",
       "       [9.07000e+02, 6.70298e+03, 6.79000e+02, 3.50000e+01, 7.00000e+00],\n",
       "       [9.00000e+02, 7.23357e+03, 3.12000e+02, 1.10000e+01, 1.60000e+01],\n",
       "       [9.02000e+02, 7.80482e+03, 8.65000e+02, 2.60000e+01, 1.80000e+01],\n",
       "       [9.05000e+02, 7.81121e+03, 6.83000e+02, 1.30000e+01, 1.70000e+01],\n",
       "       [9.08000e+02, 8.12851e+03, 4.95000e+02, 4.30000e+01, 1.60000e+01],\n",
       "       [9.10000e+02, 9.07888e+03, 7.73000e+02, 3.50000e+01, 3.00000e+00]])"
      ]
     },
     "execution_count": 185,
     "metadata": {},
     "output_type": "execute_result"
    }
   ],
   "source": [
    "#**Q8.1:** Sort the `banking_data` by account balance (ascending)\n",
    "s=banking_industry[banking_industry[:,1].argsort()]\n",
    "s"
   ]
  },
  {
   "cell_type": "code",
   "execution_count": 188,
   "id": "b8bfe4c8",
   "metadata": {},
   "outputs": [
    {
     "data": {
      "text/plain": [
       "array([[9.02000e+02, 7.80482e+03, 8.65000e+02, 2.60000e+01, 1.80000e+01],\n",
       "       [9.10000e+02, 9.07888e+03, 7.73000e+02, 3.50000e+01, 3.00000e+00],\n",
       "       [9.01000e+02, 1.27740e+02, 6.90000e+02, 2.70000e+01, 1.10000e+01],\n",
       "       [9.05000e+02, 7.81121e+03, 6.83000e+02, 1.30000e+01, 1.70000e+01],\n",
       "       [9.07000e+02, 6.70298e+03, 6.79000e+02, 3.50000e+01, 7.00000e+00],\n",
       "       [9.08000e+02, 8.12851e+03, 4.95000e+02, 4.30000e+01, 1.60000e+01],\n",
       "       [9.06000e+02, 3.70361e+03, 3.69000e+02, 5.00000e+01, 1.40000e+01],\n",
       "       [9.00000e+02, 7.23357e+03, 3.12000e+02, 1.10000e+01, 1.60000e+01],\n",
       "       [9.04000e+02, 4.96656e+03, 3.03000e+02, 1.80000e+01, 1.90000e+01],\n",
       "       [9.09000e+02, 5.58168e+03, 3.02000e+02, 1.70000e+01, 2.10000e+01]])"
      ]
     },
     "execution_count": 188,
     "metadata": {},
     "output_type": "execute_result"
    }
   ],
   "source": [
    "#**Q8.2:** Sort the `banking_data` by credit score (descending)\n",
    "sr=banking_industry[(-banking_industry[:,2]).argsort()]\n",
    "sr"
   ]
  },
  {
   "cell_type": "code",
   "execution_count": 190,
   "id": "a9a441e8",
   "metadata": {},
   "outputs": [
    {
     "data": {
      "text/plain": [
       "array([0, 5, 3, 8, 6, 2, 1, 4, 7, 9], dtype=int64)"
      ]
     },
     "execution_count": 190,
     "metadata": {},
     "output_type": "execute_result"
    }
   ],
   "source": [
    "#**Q8.3:** Find the indices that would sort the array by years active\n",
    "ins=np.argsort(banking_industry[:,1])\n",
    "ins"
   ]
  },
  {
   "cell_type": "code",
   "execution_count": null,
   "id": "7672b096",
   "metadata": {},
   "outputs": [],
   "source": [
    "#**Q8.4:** Find the customer with the second highest account balance\n"
   ]
  },
  {
   "cell_type": "code",
   "execution_count": null,
   "id": "bbeb3ba5",
   "metadata": {},
   "outputs": [],
   "source": [
    "#**Q8.5:** Find the customer with the lowest transaction count\n"
   ]
  },
  {
   "cell_type": "code",
   "execution_count": null,
   "id": "4ae20969",
   "metadata": {},
   "outputs": [],
   "source": [
    "### Question 9: Mathematical Functions"
   ]
  },
  {
   "cell_type": "code",
   "execution_count": 191,
   "id": "7228e6a3",
   "metadata": {},
   "outputs": [
    {
     "data": {
      "text/plain": [
       "array([[9.01000e+02, 1.27740e+02, 6.90000e+02, 2.70000e+01, 1.10000e+01],\n",
       "       [9.02000e+02, 7.80482e+03, 8.65000e+02, 2.60000e+01, 1.80000e+01],\n",
       "       [9.00000e+02, 7.23357e+03, 3.12000e+02, 1.10000e+01, 1.60000e+01],\n",
       "       [9.04000e+02, 4.96656e+03, 3.03000e+02, 1.80000e+01, 1.90000e+01],\n",
       "       [9.05000e+02, 7.81121e+03, 6.83000e+02, 1.30000e+01, 1.70000e+01],\n",
       "       [9.06000e+02, 3.70361e+03, 3.69000e+02, 5.00000e+01, 1.40000e+01],\n",
       "       [9.07000e+02, 6.70298e+03, 6.79000e+02, 3.50000e+01, 7.00000e+00],\n",
       "       [9.08000e+02, 8.12851e+03, 4.95000e+02, 4.30000e+01, 1.60000e+01],\n",
       "       [9.09000e+02, 5.58168e+03, 3.02000e+02, 1.70000e+01, 2.10000e+01],\n",
       "       [9.10000e+02, 9.07888e+03, 7.73000e+02, 3.50000e+01, 3.00000e+00]])"
      ]
     },
     "execution_count": 191,
     "metadata": {},
     "output_type": "execute_result"
    }
   ],
   "source": [
    "#**Q9.1:** Calculate the absolute values of all elements\n",
    "ab=np.abs(banking_industry)\n",
    "ab"
   ]
  },
  {
   "cell_type": "code",
   "execution_count": 192,
   "id": "bf913509",
   "metadata": {},
   "outputs": [
    {
     "data": {
      "text/plain": [
       "array([11.30221217, 88.34489233, 85.05039682, 70.47382493, 88.38105001,\n",
       "       60.85729209, 81.87172894, 90.15824976, 74.71064181, 95.28315696])"
      ]
     },
     "execution_count": 192,
     "metadata": {},
     "output_type": "execute_result"
    }
   ],
   "source": [
    "#**Q9.2:** Calculate the square root of all account balances\n",
    "sq=np.sqrt(banking_industry[:,1])\n",
    "sq"
   ]
  },
  {
   "cell_type": "code",
   "execution_count": 193,
   "id": "32552b3f",
   "metadata": {},
   "outputs": [
    {
     "data": {
      "text/plain": [
       "array([26.26785107, 29.41088234, 17.66352173, 17.40689519, 26.13426869,\n",
       "       19.20937271, 26.05762844, 22.24859546, 17.3781472 , 27.80287755])"
      ]
     },
     "execution_count": 193,
     "metadata": {},
     "output_type": "execute_result"
    }
   ],
   "source": [
    "#**Q9.3:** Calculate the square of all credit scores\n",
    "sq=np.sqrt(banking_industry[:,2])\n",
    "sq"
   ]
  },
  {
   "cell_type": "code",
   "execution_count": 194,
   "id": "4749d63a",
   "metadata": {},
   "outputs": [
    {
     "data": {
      "text/plain": [
       "array([5.32048241e+11, 1.95729609e+11, 5.98741417e+04, 6.56599691e+07,\n",
       "       4.42413392e+05, 5.18470553e+21, 1.58601345e+15, 4.72783947e+18,\n",
       "       2.41549528e+07, 1.58601345e+15])"
      ]
     },
     "execution_count": 194,
     "metadata": {},
     "output_type": "execute_result"
    }
   ],
   "source": [
    "#**Q9.4:** Calculate the exponential of all transaction counts\n",
    "ex=np.exp(banking_industry[:,3])\n",
    "ex"
   ]
  },
  {
   "cell_type": "code",
   "execution_count": 195,
   "id": "eb3df19e",
   "metadata": {},
   "outputs": [
    {
     "data": {
      "text/plain": [
       "array([4.84999695, 8.96249677, 8.88648797, 8.51048273, 8.96331516,\n",
       "       8.2170633 , 8.81030748, 9.00313291, 8.62724509, 9.11370612])"
      ]
     },
     "execution_count": 195,
     "metadata": {},
     "output_type": "execute_result"
    }
   ],
   "source": [
    "#**Q9.5:** Calculate the natural logarithm of all account balances\n",
    "lg=np.log(banking_industry[:,1])\n",
    "lg"
   ]
  },
  {
   "cell_type": "code",
   "execution_count": null,
   "id": "3dfe3a96",
   "metadata": {},
   "outputs": [],
   "source": [
    "### Question 10: Advanced Operations"
   ]
  },
  {
   "cell_type": "code",
   "execution_count": 196,
   "id": "1839e15f",
   "metadata": {},
   "outputs": [
    {
     "data": {
      "text/plain": [
       "array([  127.74,  7932.56, 15166.13, 20132.69, 27943.9 , 31647.51,\n",
       "       38350.49, 46479.  , 52060.68, 61139.56])"
      ]
     },
     "execution_count": 196,
     "metadata": {},
     "output_type": "execute_result"
    }
   ],
   "source": [
    "#**Q10.1:** Calculate the cumulative sum of account balances\n",
    "cms=np.cumsum(banking_industry[:,1])\n",
    "cms"
   ]
  },
  {
   "cell_type": "code",
   "execution_count": 197,
   "id": "32e9c067",
   "metadata": {},
   "outputs": [
    {
     "data": {
      "text/plain": [
       "array([2.70000000e+01, 7.02000000e+02, 7.72200000e+03, 1.38996000e+05,\n",
       "       1.80694800e+06, 9.03474000e+07, 3.16215900e+09, 1.35972837e+11,\n",
       "       2.31153823e+12, 8.09038380e+13])"
      ]
     },
     "execution_count": 197,
     "metadata": {},
     "output_type": "execute_result"
    }
   ],
   "source": [
    "#**Q10.2:** Calculate the cumulative product of transaction counts\n",
    "cm=np.cumprod(banking_industry[:,3])\n",
    "cm"
   ]
  },
  {
   "cell_type": "code",
   "execution_count": 198,
   "id": "5f5cb2dd",
   "metadata": {},
   "outputs": [
    {
     "data": {
      "text/plain": [
       "array([ 7677.08,  -571.25, -2267.01,  2844.65, -4107.6 ,  2999.37,\n",
       "        1425.53, -2546.83,  3497.2 ])"
      ]
     },
     "execution_count": 198,
     "metadata": {},
     "output_type": "execute_result"
    }
   ],
   "source": [
    "#**Q10.3:** Calculate the difference between consecutive account balances\n",
    "cn=np.diff(banking_industry[:,1])\n",
    "cn"
   ]
  },
  {
   "cell_type": "code",
   "execution_count": 199,
   "id": "900ffbc5",
   "metadata": {},
   "outputs": [
    {
     "data": {
      "text/plain": [
       "array([ 7677.08 ,  3552.915, -1419.13 ,   288.82 ,  -631.475,  -554.115,\n",
       "        2212.45 ,  -560.65 ,   475.185,  3497.2  ])"
      ]
     },
     "execution_count": 199,
     "metadata": {},
     "output_type": "execute_result"
    }
   ],
   "source": [
    "#**Q10.4:** Calculate the gradient of account balances\n",
    "gt=np.gradient(banking_industry[:,1])\n",
    "gt"
   ]
  },
  {
   "cell_type": "code",
   "execution_count": null,
   "id": "e710a94c",
   "metadata": {},
   "outputs": [],
   "source": [
    "#**Q10.5:** Calculate the histogram of account balances with 5 bins\n"
   ]
  },
  {
   "cell_type": "code",
   "execution_count": null,
   "id": "894c39e5",
   "metadata": {},
   "outputs": [],
   "source": [
    "### Question 11: Random Numbers and Simulation"
   ]
  },
  {
   "cell_type": "code",
   "execution_count": 200,
   "id": "16511458",
   "metadata": {},
   "outputs": [
    {
     "data": {
      "text/plain": [
       "array([486, 159,  51, 343, 662, 925])"
      ]
     },
     "execution_count": 200,
     "metadata": {},
     "output_type": "execute_result"
    }
   ],
   "source": [
    "#**Q11.1:** Generate 6 random integers between 1 and 1000\n",
    "rd=np.random.randint(1,1001,6)\n",
    "rd"
   ]
  },
  {
   "cell_type": "code",
   "execution_count": 206,
   "id": "d3e0a10c",
   "metadata": {},
   "outputs": [
    {
     "data": {
      "text/plain": [
       "array([0.79652486, 0.30916005, 0.47462647, 0.76506303, 0.21308398,\n",
       "       0.36877864])"
      ]
     },
     "execution_count": 206,
     "metadata": {},
     "output_type": "execute_result"
    }
   ],
   "source": [
    "#**Q11.2:** Generate 6 random floats between 0 and 1\n",
    "rf=np.random.random(6)\n",
    "rf"
   ]
  },
  {
   "cell_type": "code",
   "execution_count": 204,
   "id": "c8c9138e",
   "metadata": {},
   "outputs": [
    {
     "data": {
      "text/plain": [
       "array([-0.38143639,  0.31527054, -0.81669154,  2.50788762,  0.96012204,\n",
       "       -0.27444669])"
      ]
     },
     "execution_count": 204,
     "metadata": {},
     "output_type": "execute_result"
    }
   ],
   "source": [
    "#**Q11.3:** Generate 6 random numbers from normal distribution (mean=700, std=100)\n",
    "rn=np.random.normal(0,1,6)\n",
    "rn\n"
   ]
  },
  {
   "cell_type": "code",
   "execution_count": 208,
   "id": "12269abe",
   "metadata": {},
   "outputs": [
    {
     "data": {
      "text/plain": [
       "array([[9.02000e+02, 7.80482e+03, 8.65000e+02, 2.60000e+01, 1.80000e+01],\n",
       "       [9.05000e+02, 7.81121e+03, 6.83000e+02, 1.30000e+01, 1.70000e+01],\n",
       "       [9.10000e+02, 9.07888e+03, 7.73000e+02, 3.50000e+01, 3.00000e+00],\n",
       "       [9.01000e+02, 1.27740e+02, 6.90000e+02, 2.70000e+01, 1.10000e+01],\n",
       "       [9.08000e+02, 8.12851e+03, 4.95000e+02, 4.30000e+01, 1.60000e+01],\n",
       "       [9.00000e+02, 7.23357e+03, 3.12000e+02, 1.10000e+01, 1.60000e+01],\n",
       "       [9.06000e+02, 3.70361e+03, 3.69000e+02, 5.00000e+01, 1.40000e+01],\n",
       "       [9.07000e+02, 6.70298e+03, 6.79000e+02, 3.50000e+01, 7.00000e+00],\n",
       "       [9.04000e+02, 4.96656e+03, 3.03000e+02, 1.80000e+01, 1.90000e+01],\n",
       "       [9.09000e+02, 5.58168e+03, 3.02000e+02, 1.70000e+01, 2.10000e+01]])"
      ]
     },
     "execution_count": 208,
     "metadata": {},
     "output_type": "execute_result"
    }
   ],
   "source": [
    "#**Q11.4:** Shuffle the `banking_data` rows randomly\n",
    "sf=banking_industry.copy()\n",
    "np.random.shuffle(sf)\n",
    "sf"
   ]
  },
  {
   "cell_type": "code",
   "execution_count": 209,
   "id": "0a61bcf3",
   "metadata": {},
   "outputs": [
    {
     "data": {
      "text/plain": [
       "array([0.69646919, 0.28613933, 0.22685145, 0.55131477])"
      ]
     },
     "execution_count": 209,
     "metadata": {},
     "output_type": "execute_result"
    }
   ],
   "source": [
    "#**Q11.5:** Set random seed to 123 and generate 4 random numbers\n",
    "np.random.seed(123)\n",
    "srs=np.random.random(4)\n",
    "srs"
   ]
  },
  {
   "cell_type": "code",
   "execution_count": null,
   "id": "8aa97448",
   "metadata": {},
   "outputs": [],
   "source": [
    "### Question 12: Linear Algebra Operations"
   ]
  },
  {
   "cell_type": "code",
   "execution_count": 213,
   "id": "8e8a6adf",
   "metadata": {},
   "outputs": [
    {
     "data": {
      "text/plain": [
       "34581317.41"
      ]
     },
     "execution_count": 213,
     "metadata": {},
     "output_type": "execute_result"
    }
   ],
   "source": [
    "#**Q12.1:** Calculate the dot product of account balance and credit score columns\n",
    "dp=np.dot((banking_industry[:,1]),(banking_industry[:,2]))\n",
    "dp\n"
   ]
  },
  {
   "cell_type": "code",
   "execution_count": 217,
   "id": "c6865cd7",
   "metadata": {},
   "outputs": [
    {
     "data": {
      "text/plain": [
       "array([-5274830.7 ,  -156985.  ,  6916921.34])"
      ]
     },
     "execution_count": 217,
     "metadata": {},
     "output_type": "execute_result"
    }
   ],
   "source": [
    "#**Q12.2:** Calculate the cross product of first two rows\n",
    "cp=np.cross(banking_industry[0,:3],banking_industry[1,:3])\n",
    "cp"
   ]
  },
  {
   "cell_type": "code",
   "execution_count": 218,
   "id": "b8c5eb77",
   "metadata": {},
   "outputs": [
    {
     "data": {
      "text/plain": [
       "20910.244952941128"
      ]
     },
     "execution_count": 218,
     "metadata": {},
     "output_type": "execute_result"
    }
   ],
   "source": [
    "#**Q12.3:** Calculate the norm (magnitude) of the account balance column\n",
    "nor=np.linalg.norm(banking_industry[:,1])\n",
    "nor"
   ]
  },
  {
   "cell_type": "code",
   "execution_count": 223,
   "id": "5de25fe3",
   "metadata": {},
   "outputs": [
    {
     "data": {
      "text/plain": [
       "32.000000000000014"
      ]
     },
     "execution_count": 223,
     "metadata": {},
     "output_type": "execute_result"
    }
   ],
   "source": [
    "#**Q12.4:** Create a 3x3 matrix and calculate its determinant\n",
    "mat=np.array([[1,4,2],[2,5,6],[4,3,6]])\n",
    "cd=np.linalg.det(mat)\n",
    "mat\n",
    "cd"
   ]
  },
  {
   "cell_type": "code",
   "execution_count": 224,
   "id": "1b98dfba",
   "metadata": {},
   "outputs": [
    {
     "data": {
      "text/plain": [
       "array([[ 0.375  , -0.5625 ,  0.4375 ],\n",
       "       [ 0.375  , -0.0625 , -0.0625 ],\n",
       "       [-0.4375 ,  0.40625, -0.09375]])"
      ]
     },
     "execution_count": 224,
     "metadata": {},
     "output_type": "execute_result"
    }
   ],
   "source": [
    "#**Q12.5:** Calculate the inverse of the 3x3 matrix\n",
    "im=np.linalg.inv(mat)\n",
    "im"
   ]
  },
  {
   "cell_type": "code",
   "execution_count": null,
   "id": "5466f6bb",
   "metadata": {},
   "outputs": [],
   "source": []
  }
 ],
 "metadata": {
  "kernelspec": {
   "display_name": "base",
   "language": "python",
   "name": "python3"
  },
  "language_info": {
   "codemirror_mode": {
    "name": "ipython",
    "version": 3
   },
   "file_extension": ".py",
   "mimetype": "text/x-python",
   "name": "python",
   "nbconvert_exporter": "python",
   "pygments_lexer": "ipython3",
   "version": "3.10.9"
  }
 },
 "nbformat": 4,
 "nbformat_minor": 5
}
