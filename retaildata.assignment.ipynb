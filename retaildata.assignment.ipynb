{
 "cells": [
  {
   "cell_type": "code",
   "execution_count": 55,
   "id": "f560e8ad",
   "metadata": {},
   "outputs": [],
   "source": [
    "import numpy as np\n",
    "import pandas as pd"
   ]
  },
  {
   "cell_type": "code",
   "execution_count": 56,
   "id": "6c24f5a0",
   "metadata": {},
   "outputs": [
    {
     "name": "stdout",
     "output_type": "stream",
     "text": [
      "[[    1 26000   360  1200    10]\n",
      " [    2 34000   450  1500    15]\n",
      " [    3 29000   380  1100    18]\n",
      " [    4 49000   520  1660    20]\n",
      " [    5 38000   420  1400    12]\n",
      " [    6 27000   360  1300    19]\n",
      " [    7 39000   480  1710    18]\n",
      " [    8 33000   470  1250    14]\n",
      " [    9 41000   550  1890    25]\n",
      " [   10 37000   410  1450    11]]\n"
     ]
    }
   ],
   "source": [
    "\n",
    "# Manually created array: [Store ID, Sales, Customers, Inventory, Returns]\n",
    "retail_data = np.array([\n",
    "    [1, 26000, 360, 1200, 10],\n",
    "    [2, 34000, 450, 1500, 15],\n",
    "    [3, 29000, 380, 1100, 18],\n",
    "    [4, 49000, 520, 1660, 20],\n",
    "    [5, 38000, 420, 1400, 12],\n",
    "    [6, 27000, 360, 1300, 19],\n",
    "    [7, 39000, 480, 1710, 18],\n",
    "    [8, 33000, 470, 1250, 14],\n",
    "    [9, 41000, 550, 1890, 25],\n",
    "    [10, 37000, 410, 1450, 11]\n",
    "])\n",
    "\n",
    "print(retail_data)"
   ]
  },
  {
   "cell_type": "code",
   "execution_count": 57,
   "id": "725e4243",
   "metadata": {},
   "outputs": [
    {
     "data": {
      "text/plain": [
       "162"
      ]
     },
     "execution_count": 57,
     "metadata": {},
     "output_type": "execute_result"
    }
   ],
   "source": [
    "#1. What is the **total revenue** generated across all stores?\n",
    "retail_data[:,4].sum()"
   ]
  },
  {
   "cell_type": "code",
   "execution_count": 58,
   "id": "4b9ad635",
   "metadata": {},
   "outputs": [
    {
     "data": {
      "text/plain": [
       "4"
      ]
     },
     "execution_count": 58,
     "metadata": {},
     "output_type": "execute_result"
    }
   ],
   "source": [
    "#2. Which store recorded the **highest sales**?\n",
    "retail_data[:,1].argmax()+1"
   ]
  },
  {
   "cell_type": "code",
   "execution_count": 59,
   "id": "f250e04a",
   "metadata": {},
   "outputs": [
    {
     "data": {
      "text/plain": [
       "1"
      ]
     },
     "execution_count": 59,
     "metadata": {},
     "output_type": "execute_result"
    }
   ],
   "source": [
    "#3. Which store recorded the **lowest sales**?\n",
    "retail_data[:,1].argmin()+1"
   ]
  },
  {
   "cell_type": "code",
   "execution_count": 60,
   "id": "7ae2daf7",
   "metadata": {},
   "outputs": [
    {
     "data": {
      "text/plain": [
       "3530.0"
      ]
     },
     "execution_count": 60,
     "metadata": {},
     "output_type": "execute_result"
    }
   ],
   "source": [
    "#4. What is the **average daily sales** per store?\n",
    "P=retail_data[:,1].mean()/10\n",
    "P"
   ]
  },
  {
   "cell_type": "code",
   "execution_count": 61,
   "id": "a879c3d2",
   "metadata": {},
   "outputs": [
    {
     "data": {
      "text/plain": [
       "array([ 4,  5,  7,  9, 10])"
      ]
     },
     "execution_count": 61,
     "metadata": {},
     "output_type": "execute_result"
    }
   ],
   "source": [
    "#5. How many stores achieved sales **above ₹35,000**?\n",
    "N=retail_data[retail_data[:,1]>35000]\n",
    "N[:,0]"
   ]
  },
  {
   "cell_type": "code",
   "execution_count": 62,
   "id": "3b2143ba",
   "metadata": {},
   "outputs": [
    {
     "data": {
      "text/plain": [
       "9"
      ]
     },
     "execution_count": 62,
     "metadata": {},
     "output_type": "execute_result"
    }
   ],
   "source": [
    "#6. Which store had the **highest customer footfall**?\n",
    "retail_data[:,2].argmax()+1"
   ]
  },
  {
   "cell_type": "code",
   "execution_count": 63,
   "id": "38d09240",
   "metadata": {},
   "outputs": [
    {
     "data": {
      "text/plain": [
       "44.0"
      ]
     },
     "execution_count": 63,
     "metadata": {},
     "output_type": "execute_result"
    }
   ],
   "source": [
    "#7. What is the **average number of customers** per store?\n",
    "retail_data[:,2].mean()/10"
   ]
  },
  {
   "cell_type": "code",
   "execution_count": 64,
   "id": "5fd60a4c",
   "metadata": {},
   "outputs": [
    {
     "data": {
      "text/plain": [
       "array([4, 7, 8, 9])"
      ]
     },
     "execution_count": 64,
     "metadata": {},
     "output_type": "execute_result"
    }
   ],
   "source": [
    "#8. How many stores have **more than 450 customers**?\n",
    "N=retail_data[retail_data[:,2]>450]\n",
    "N[:,0]"
   ]
  },
  {
   "cell_type": "code",
   "execution_count": 65,
   "id": "5330f513",
   "metadata": {},
   "outputs": [
    {
     "data": {
      "text/plain": [
       "1"
      ]
     },
     "execution_count": 65,
     "metadata": {},
     "output_type": "execute_result"
    }
   ],
   "source": [
    "#9. Which store has the **lowest customer count**?\n",
    "retail_data[:,2].argmin()+1"
   ]
  },
  {
   "cell_type": "code",
   "execution_count": 66,
   "id": "634e2fd9",
   "metadata": {},
   "outputs": [
    {
     "data": {
      "text/plain": [
       "array([[    5, 38000,   420,  1400,    12],\n",
       "       [   10, 37000,   410,  1450,    11]])"
      ]
     },
     "execution_count": 66,
     "metadata": {},
     "output_type": "execute_result"
    }
   ],
   "source": [
    "#10. Is there any store where **high sales do not correspond to high customers**?\n",
    "N=retail_data[:,1].mean()\n",
    "M=retail_data[:,2].mean()\n",
    "L=retail_data[(retail_data[:,1]>N) & (retail_data[:,2]<M)]\n",
    "L"
   ]
  },
  {
   "cell_type": "code",
   "execution_count": 67,
   "id": "cbe3762b",
   "metadata": {},
   "outputs": [
    {
     "data": {
      "text/plain": [
       "14460"
      ]
     },
     "execution_count": 67,
     "metadata": {},
     "output_type": "execute_result"
    }
   ],
   "source": [
    "#11. What is the **total inventory** across all stores?\n",
    "retail_data[:,3].sum()"
   ]
  },
  {
   "cell_type": "code",
   "execution_count": 68,
   "id": "9095fc33",
   "metadata": {},
   "outputs": [
    {
     "data": {
      "text/plain": [
       "9"
      ]
     },
     "execution_count": 68,
     "metadata": {},
     "output_type": "execute_result"
    }
   ],
   "source": [
    "#12. Which store has the **highest inventory stock**?\n",
    "retail_data[:,3].argmax()+1"
   ]
  },
  {
   "cell_type": "code",
   "execution_count": 69,
   "id": "e44c9a5f",
   "metadata": {},
   "outputs": [
    {
     "data": {
      "text/plain": [
       "array([1, 3, 8])"
      ]
     },
     "execution_count": 69,
     "metadata": {},
     "output_type": "execute_result"
    }
   ],
   "source": [
    "#13. How many stores have **inventory less than 1300 units**?\n",
    "N=retail_data[retail_data[:,3]<1300]\n",
    "N[:,0]"
   ]
  },
  {
   "cell_type": "code",
   "execution_count": 70,
   "id": "eb8b6cea",
   "metadata": {},
   "outputs": [
    {
     "data": {
      "text/plain": [
       "3"
      ]
     },
     "execution_count": 70,
     "metadata": {},
     "output_type": "execute_result"
    }
   ],
   "source": [
    "#14. Which store has the **highest return rate** (returns ÷ inventory)?\n",
    "(retail_data[:,4]/retail_data[:,3]).argmax()+1"
   ]
  },
  {
   "cell_type": "code",
   "execution_count": 71,
   "id": "80cdeac4",
   "metadata": {},
   "outputs": [
    {
     "data": {
      "text/plain": [
       "array([3, 4, 6, 7, 9])"
      ]
     },
     "execution_count": 71,
     "metadata": {},
     "output_type": "execute_result"
    }
   ],
   "source": [
    "#15. Which stores have **returns greater than 15 units**?\n",
    "N=retail_data[retail_data[:,4]>15]\n",
    "N[:,0]"
   ]
  },
  {
   "cell_type": "code",
   "execution_count": 72,
   "id": "134badb0",
   "metadata": {},
   "outputs": [
    {
     "name": "stdout",
     "output_type": "stream",
     "text": [
      "[[1.        0.8340604]\n",
      " [0.8340604 1.       ]]\n"
     ]
    }
   ],
   "source": [
    "#16. Is there a **positive correlation** between sales and customers?\n",
    "N=retail_data[:,1]\n",
    "M=retail_data[:,2]\n",
    "L=(np.corrcoef(N,M))\n",
    "print(L)"
   ]
  },
  {
   "cell_type": "code",
   "execution_count": 73,
   "id": "7e2c4d85",
   "metadata": {},
   "outputs": [
    {
     "data": {
      "text/plain": [
       "array([[    2, 34000,   450,  1500,    15],\n",
       "       [    8, 33000,   470,  1250,    14]])"
      ]
     },
     "execution_count": 73,
     "metadata": {},
     "output_type": "execute_result"
    }
   ],
   "source": [
    "#17. Which store has **high customer visits but low sales**?\n",
    "N=retail_data[:,2].mean()\n",
    "M=retail_data[:,1].mean()\n",
    "L=retail_data[(retail_data[:,2]>N) & (retail_data[:,1]<M)]\n",
    "L"
   ]
  },
  {
   "cell_type": "code",
   "execution_count": 74,
   "id": "e7b05fac",
   "metadata": {},
   "outputs": [
    {
     "data": {
      "text/plain": [
       "array([[    5, 38000,   420,  1400,    12],\n",
       "       [   10, 37000,   410,  1450,    11]])"
      ]
     },
     "execution_count": 74,
     "metadata": {},
     "output_type": "execute_result"
    }
   ],
   "source": [
    "#18. Which store has **low customers but high sales**?\n",
    "N=retail_data[:,2].mean()\n",
    "M=retail_data[:,1].mean()\n",
    "L=retail_data[(retail_data[:,2]<N) & (retail_data[:,1]>M)]\n",
    "L"
   ]
  },
  {
   "cell_type": "code",
   "execution_count": 75,
   "id": "ede24bca",
   "metadata": {},
   "outputs": [
    {
     "data": {
      "text/plain": [
       "array([[    4, 49000,   520,  1660,    20],\n",
       "       [    5, 38000,   420,  1400,    12],\n",
       "       [   10, 37000,   410,  1450,    11]])"
      ]
     },
     "execution_count": 75,
     "metadata": {},
     "output_type": "execute_result"
    }
   ],
   "source": [
    "#19. How many stores have **sales per customer above ₹90**?\n",
    "retail_data[(retail_data[:,1])/(retail_data[:,2])>90]"
   ]
  },
  {
   "cell_type": "code",
   "execution_count": 76,
   "id": "0e866f5c",
   "metadata": {},
   "outputs": [
    {
     "name": "stdout",
     "output_type": "stream",
     "text": [
      "(1, 9)\n"
     ]
    }
   ],
   "source": [
    "#20. Which stores could **benefit from customer acquisition campaigns** (low customers, high inventory)?\n",
    "N=retail_data[:,2].argmin()+1\n",
    "M=retail_data[:,3].argmax()+1\n",
    "L=(N,M)\n",
    "print(L)"
   ]
  },
  {
   "cell_type": "code",
   "execution_count": 77,
   "id": "859798b4",
   "metadata": {},
   "outputs": [
    {
     "data": {
      "text/plain": [
       "array([5200., 6800., 5800., 9800., 7600., 5400., 7800., 6600., 8200.,\n",
       "       7400.])"
      ]
     },
     "execution_count": 77,
     "metadata": {},
     "output_type": "execute_result"
    }
   ],
   "source": [
    "#21. If profit margin is **20% of sales**, what is the **profit per store**?\n",
    "N=retail_data[:,1]*0.20\n",
    "N"
   ]
  },
  {
   "cell_type": "code",
   "execution_count": 78,
   "id": "68961434",
   "metadata": {},
   "outputs": [
    {
     "data": {
      "text/plain": [
       "4"
      ]
     },
     "execution_count": 78,
     "metadata": {},
     "output_type": "execute_result"
    }
   ],
   "source": [
    "#22. Which store has the **highest profit**?\n",
    "\n",
    "L=(retail_data[:,1]-retail_data[:,4]).argmax()+1\n",
    "L"
   ]
  },
  {
   "cell_type": "code",
   "execution_count": 79,
   "id": "55e6f2ff",
   "metadata": {},
   "outputs": [
    {
     "data": {
      "text/plain": [
       "1"
      ]
     },
     "execution_count": 79,
     "metadata": {},
     "output_type": "execute_result"
    }
   ],
   "source": [
    "#23. Which store has the **lowest profit**?\n",
    "K=(retail_data[:,1]-retail_data[:,4]).argmin()+1\n",
    "K"
   ]
  },
  {
   "cell_type": "code",
   "execution_count": 80,
   "id": "5c15319b",
   "metadata": {},
   "outputs": [
    {
     "data": {
      "text/plain": [
       "array([28600., 37400., 31900., 53900., 41800., 29700., 42900., 36300.,\n",
       "       45100., 40700.])"
      ]
     },
     "execution_count": 80,
     "metadata": {},
     "output_type": "execute_result"
    }
   ],
   "source": [
    "#24. If sales increase by **10% next month**, what are the **new sales figures**?\n",
    "N=retail_data[:,1]*0.10\n",
    "O=retail_data[:,1]+N\n",
    "O"
   ]
  },
  {
   "cell_type": "code",
   "execution_count": 81,
   "id": "b26f154c",
   "metadata": {},
   "outputs": [
    {
     "name": "stdout",
     "output_type": "stream",
     "text": [
      "388300.0\n"
     ]
    }
   ],
   "source": [
    "#25. How will **total profit** change with the 10% sales increase?\n",
    "H=sum(O)\n",
    "print(H)"
   ]
  },
  {
   "cell_type": "code",
   "execution_count": 85,
   "id": "e793c1da",
   "metadata": {},
   "outputs": [
    {
     "data": {
      "text/plain": [
       "array([[    5, 38000,   420,  1400,    12]])"
      ]
     },
     "execution_count": 85,
     "metadata": {},
     "output_type": "execute_result"
    }
   ],
   "source": [
    "#26. Which stores need **inventory restocking** based on sales and current stock?\n",
    "W=retail_data[:,1].mean()\n",
    "Q=retail_data[:,3].mean()\n",
    "B=retail_data[(retail_data[:,1]>W) & (retail_data[:,3]<Q)]\n",
    "B\n"
   ]
  },
  {
   "cell_type": "code",
   "execution_count": null,
   "id": "4e03ae7f",
   "metadata": {},
   "outputs": [],
   "source": [
    "#27. Which stores show **high returns percentage** and might require **quality checks**?\n"
   ]
  },
  {
   "cell_type": "code",
   "execution_count": 86,
   "id": "c980a58b",
   "metadata": {},
   "outputs": [
    {
     "name": "stdout",
     "output_type": "stream",
     "text": [
      "4\n"
     ]
    }
   ],
   "source": [
    "#28. Which store is the **best performer overall** (sales, customers, inventory turnover)?\n",
    "L=(retail_data[:,1],retail_data[:,2],retail_data[:,3])\n",
    "N=np.sum(L,axis=0)\n",
    "M=np.argmax(N)+1\n",
    "print(M)\n"
   ]
  },
  {
   "cell_type": "code",
   "execution_count": null,
   "id": "020bcc8b",
   "metadata": {},
   "outputs": [
    {
     "name": "stdout",
     "output_type": "stream",
     "text": [
      "1\n"
     ]
    }
   ],
   "source": [
    "#29. Which store is the **worst performer overall**?\n",
    "N=np.sum(retail_data,axis=0)\n",
    "M=np.argmin(N)+1\n",
    "print(M)"
   ]
  },
  {
   "cell_type": "code",
   "execution_count": null,
   "id": "5c4bb10e",
   "metadata": {},
   "outputs": [],
   "source": [
    "#30. Which stores can be considered for **expansion** based on strong sales and customer metrics?\n"
   ]
  }
 ],
 "metadata": {
  "kernelspec": {
   "display_name": "base",
   "language": "python",
   "name": "python3"
  },
  "language_info": {
   "codemirror_mode": {
    "name": "ipython",
    "version": 3
   },
   "file_extension": ".py",
   "mimetype": "text/x-python",
   "name": "python",
   "nbconvert_exporter": "python",
   "pygments_lexer": "ipython3",
   "version": "3.10.9"
  }
 },
 "nbformat": 4,
 "nbformat_minor": 5
}
